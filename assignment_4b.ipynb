{
 "cells": [
  {
   "cell_type": "markdown",
   "metadata": {
    "id": "aJ_pmgxvGur9"
   },
   "source": [
    "# Assignment 4b - Graph Convolutional Networks\n",
    "## Deep Learning Course - Vrije Universiteit Amsterdam, 2024"
   ]
  },
  {
   "cell_type": "markdown",
   "metadata": {
    "id": "mEneMITS2agU"
   },
   "source": [
    "#### Instructions on how to use this notebook:\n",
    "\n",
    "This notebook is hosted on Google Colab. To be able to work on it, you have to create your own copy. Go to *File* and select *Save a copy in Drive*.\n",
    "\n",
    "You can also avoid using Colab entirely, and download the notebook to run it on your own machine. If you choose this, go to *File* and select *Download .ipynb*.\n",
    "\n",
    "The advantage of using Colab is that you can use a GPU. You can complete this assignment with a CPU, but it will take a bit longer. Furthermore, we encourage you to train using the GPU not only for faster training, but also to get experience with this setting. This includes moving models and tensors to the GPU and back. This experience is very valuable because for many interesting models and large datasets (like large CNNs for ImageNet, or Transformer models trained on Wikipedia), training on GPU is the only feasible way.\n",
    "\n",
    "The default Colab runtime does not have a GPU. To change this, go to *Runtime - Change runtime type*, and select *GPU* as the hardware accelerator. The GPU that you get changes according to what resources are available at the time, and its memory can go from a 5GB, to around 18GB if you are lucky. If you are curious, you can run the following in a code cell to check:\n",
    "\n",
    "```sh\n",
    "!nvidia-smi\n",
    "```\n",
    "\n",
    "Note that despite the name, Google Colab does  not support collaborative work without issues. When two or more people edit the notebook concurrently, only one version will be saved. You can choose to do group programming with one person sharing the screen with the others, or make multiple copies of the notebook to work concurrently.\n",
    "\n",
    "**Submission:** Upload your notebook in .ipynb format to Canvas. The code and answers to the questions in the notebook are sufficient, no separate report is expected. "
   ]
  },
  {
   "cell_type": "code",
   "execution_count": null,
   "metadata": {
    "colab": {
     "base_uri": "https://localhost:8080/"
    },
    "id": "lBgoJIpdLI2Y",
    "outputId": "2f4f1d93-2f77-4ed1-ab7d-ab814daab38e"
   },
   "outputs": [],
   "source": [
    "!nvidia-smi"
   ]
  },
  {
   "cell_type": "markdown",
   "metadata": {
    "id": "tsdc7fDp40rQ"
   },
   "source": [
    "### Introduction\n",
    "\n",
    "Graphs are very useful data structures that allow us to represent sets of entities and the way they are related among each other. In a graph, entities are also known as *nodes*, and any link between entities is also called an *edge*.\n",
    "\n",
    "Examples of real world objects that can be modeled as graphs are social networks, where entities are people and relations denote friendship; and molecules, where entities are atoms and relations indicate a bond between them.\n",
    "\n",
    "There has been increased interest in the recent years in the application of deep learning architectures to graph-structured data, for tasks like predicting missing relations between entities, classifying entities, and classifying graphs. This interest has been spurred by the introduction of Graph Convolutional Networks (GCNs).\n",
    "\n",
    "In this assignment, you will implement and experiment with one of the first versions of the GCN, proposed by Thomas Kipf and Max Welling in their 2017 paper, [Semi-supervised Classification with Graph Convolutional Networks](https://arxiv.org/abs/1609.02907). In particular, the goals of this assignment are to\n",
    "\n",
    "- Understand how GCNs are formulated\n",
    "- Implement the GCN using PyTorch\n",
    "- Train and evaluate a model for semi-supervised node classification in citation networks\n",
    "- Train and evaluate a model for binary classification of molecules"
   ]
  },
  {
   "cell_type": "markdown",
   "metadata": {
    "id": "RvsuVNczG6pP"
   },
   "source": [
    "### Representing graphs\n",
    "\n",
    "Suppose we have the following graph:\n",
    "\n",
    "<img src=\"https://raw.githubusercontent.com/dfdazac/dlvu-a5/main/img/01-graph.png\" width=\"200\">\n",
    "\n",
    "This is an undirected graph (since the edges have no specified direction) with 4 nodes. One way to represent the connectivity structure of the graph is by means of the **adjacency matrix**. The $i$-th row of the matrix contains a 1 in the $j$-th column, if nodes $i$ and $j$ are connected. For an undirected graph like the one above, this means that the adjacency matrix\n",
    "\n",
    "- Is symmetric (e.g. an edge between 0 and 2 is equivalent as an edge between 2 and 0)\n",
    "- Is square, of size $n\\times n$ where $n$ is the number of nodes\n",
    "\n",
    "The adjacency matrix for the graph above is then the following:\n",
    "\n",
    "$$\n",
    "A =\n",
    "\\begin{bmatrix}\n",
    "0 & 0 & 1 & 0 \\\\ \n",
    "0 & 0 & 1 & 0 \\\\\n",
    "1 & 1 & 0 & 1 \\\\\n",
    "0 & 0 & 1 & 0\n",
    "\\end{bmatrix}\n",
    "$$\n",
    "\n",
    "A second matrix of interest is the **degree matrix**. This is a diagonal matrix where the $i$-th element of the diagonal indicates the number of edges connected to node $i$. Note that these can be obtained from $A$ by summing across the columns, or the rows. For our example, the degree matrix is\n",
    "\n",
    "$$\n",
    "D = \\begin{bmatrix}\n",
    "1 & 0 & 0 & 0 \\\\ \n",
    "0 & 1 & 0 & 0 \\\\\n",
    "0 & 0 & 3 & 0 \\\\\n",
    "0 & 0 & 0 & 1\n",
    "\\end{bmatrix}\n",
    "$$\n",
    "\n",
    "For specific applications, each node in the graph will have an associated vector of features $x\\in\\mathbb{R}^c$. If our graph is a social network, then the vector of features can contain information like age, location, and musical tastes, in a specific numeric format. In the case of a molecule, the node could represent an atom and have features like the atomic mass, etc. We can lay out the features in a matrix $X\\in\\mathbb{R}^{n\\times c}$, so that the feature vector for node $i$ is in the $i$-th row."
   ]
  },
  {
   "cell_type": "markdown",
   "metadata": {
    "id": "zCEQ2ffzHCf2"
   },
   "source": [
    "### Loading a citation network\n",
    "\n",
    "To move to a real world example, we will start with the Cora dataset. This dataset represents a citation network, where nodes are scientific publications, edges denote citations between them, and features are a [bag-of-words](https://en.wikipedia.org/wiki/Bag-of-words_model) extracted from their contents.\n",
    "\n",
    "This graph contains labels for nodes, that represent a specific topic. We will use these for a node classification task.\n",
    "\n",
    "To easily load it, we will use [PyTorch Geometric](https://pytorch-geometric.readthedocs.io/en/latest/index.html) (PyG), a deep learning library for graph-structured data."
   ]
  },
  {
   "cell_type": "code",
   "execution_count": 29,
   "metadata": {
    "id": "Yd2bTEBADt-a"
   },
   "outputs": [],
   "source": [
    "# Install PyTorch Geometric\n",
    "import torch\n",
    "try:\n",
    "    import torch_geometric\n",
    "except ModuleNotFoundError:\n",
    "    # Installing torch geometric packages with specific CUDA+PyTorch version.\n",
    "    # See https://pytorch-geometric.readthedocs.io/en/latest/notes/installation.html for details\n",
    "    TORCH = torch.__version__.split('+')[0]\n",
    "    CUDA = 'cu' + torch.version.cuda.replace('.','')\n",
    "\n",
    "    %pip install torch-scatter     -f https://pytorch-geometric.com/whl/torch-{TORCH}+{CUDA}.html\n",
    "    %pip install torch-sparse      -f https://pytorch-geometric.com/whl/torch-{TORCH}+{CUDA}.html\n",
    "    %pip install torch-geometric\n",
    "    import torch_geometric"
   ]
  },
  {
   "cell_type": "markdown",
   "metadata": {
    "id": "V0Nvh_-qEo1q"
   },
   "source": [
    "We can now use the library to download and import the dataset. Initializing the `Planetoid` class returns a `Dataset` object that can contain multiple graphs. In this task we will only use the `Cora` dataset (the citation network) and hence, we will select only the first element."
   ]
  },
  {
   "cell_type": "code",
   "execution_count": 30,
   "metadata": {
    "id": "vuOvwhsHD2YK"
   },
   "outputs": [],
   "source": [
    "from torch_geometric.datasets import Planetoid\n",
    "dataset = Planetoid(root='data/Planetoid', name='Cora')\n",
    "data = dataset[0]"
   ]
  },
  {
   "cell_type": "markdown",
   "metadata": {
    "id": "v4WZkoiHFyZm"
   },
   "source": [
    "\n",
    "#### Question 1 (0.25 pt)\n",
    "\n",
    "The `data` object is an instance of the `Data` class in PyG. Check the [documentation](https://pytorch-geometric.readthedocs.io/en/latest/modules/data.html) and report the following properties of the graph:\n",
    "\n",
    "- Number of nodes\n",
    "- Number of edges \n",
    "- The dimension $c$ of the feature vectors $x\\in\\mathbb{R}^c$\n",
    "- The number of targets for the classification task"
   ]
  },
  {
   "cell_type": "code",
   "execution_count": null,
   "metadata": {
    "id": "sjVuGJhlJC_7"
   },
   "outputs": [],
   "source": [
    "nnodes = data.num_nodes\n",
    "in_features = data.num_node_features\n",
    "# Also possible\n",
    "assert (nnodes, in_features) == data.x.size()\n",
    "\n",
    "nedges = data.num_edges\n",
    "\n",
    "ntargets = len(set(map(int, data.y)))\n",
    "# Also possible\n",
    "assert ntargets == dataset.num_classes\n",
    "\n",
    "print(f\"\"\"\n",
    "Number of nodes: {nnodes}\n",
    "Number of features: {in_features}\n",
    "Number of edges: {nedges}\n",
    "Number of targets: {ntargets}\n",
    "\"\"\")"
   ]
  },
  {
   "cell_type": "markdown",
   "metadata": {
    "id": "G4DrGDAuJ2YO"
   },
   "source": [
    "#### Question 2 (0.25 pt)\n",
    "\n",
    "In PyG, edges are provided in a tensor of shape (2, number of edges). You can access it via `data.edge_index`. Each column in this tensor contains the IDs for two nodes that are connected in the graph.\n",
    "\n",
    "We saw that in an undirected graph, an edge between nodes $i$ and $j$ adds a value of 1 to positions $(i, j)$ and $(j, i)$ of the adjacency matrix. Is this also true for the edge index? That is, if there is an edge $(i, j)$ in `data.edge_index`, is there also an edge for $(j, i)$? This is important to know for the next steps of the implementation."
   ]
  },
  {
   "cell_type": "code",
   "execution_count": null,
   "metadata": {
    "id": "jTRfNxibarRZ"
   },
   "outputs": [],
   "source": [
    "indices = data.edge_index.t()\n",
    "is_true = all([torch.tensor([j, i]) in indices for i, j in indices])\n",
    "print(f\"The answer is: {'YES' if is_true else 'NO'}\")"
   ]
  },
  {
   "cell_type": "markdown",
   "metadata": {
    "id": "YOpS3QTYiOqp"
   },
   "source": [
    "#### Question 3 (0.5 pt)\n",
    "\n",
    "In graphs, especially large ones, the adjacency matrix is **sparse**: most entries are zero. Sparse matrices allow for efficient storage and computation.\n",
    "\n",
    "To prepare and pre-process sparse matrices, we will use [`scipy.sparse`](https://docs.scipy.org/doc/scipy/reference/sparse.html). Once the matrices are ready, we will convert them to PyTorch tensors.\n",
    "\n",
    "We will use the [Sparse COO format](https://en.wikipedia.org/wiki/Sparse_matrix#Coordinate_list_(COO)). We encourage you to first get familiar with how it works after continuing with the assignment.\n",
    "\n",
    "- Use the [`scipy.sparse.coo_matrix()`](https://docs.scipy.org/doc/scipy/reference/generated/scipy.sparse.coo_matrix.html) function to build the adjacency matrix. Think of what arguments are needed, and how you can obtain them from the graph data loaded above.\n",
    "- Use the `sum()` method of sparse matrices, together with `scipy.sparse.diags()`, to compute the degree matrix using the definition above.\n",
    "\n",
    "Both resulting matrices must be sparse of type `float32`."
   ]
  },
  {
   "cell_type": "code",
   "execution_count": 33,
   "metadata": {
    "id": "QC01OjbJs92-"
   },
   "outputs": [],
   "source": [
    "import scipy\n",
    "import scipy.sparse\n",
    "\n",
    "row = data.edge_index[0, :]\n",
    "col = data.edge_index[1, :]\n",
    "assert len(row) == len(col) == nedges\n",
    "\n",
    "# We just put ones for neighbours\n",
    "values = torch.ones(nedges)\n",
    "\n",
    "shape = (nnodes, nnodes)\n",
    "\n",
    "adj_mat = scipy.sparse.coo_matrix((values, (row, col)), shape=shape)"
   ]
  },
  {
   "cell_type": "markdown",
   "metadata": {
    "id": "AIEJyQi2TzyY"
   },
   "source": [
    "You might wonder why we suggest to use a scipy sparse matrix, while also PyTorch supports them. The reason is that in the next step, we will be multiplying two sparse matrices, an operation not supported in PyTorch. PyTorch only allows multiplying a sparse matrix with a dense one, something which we will be doing at a later stage.\n",
    "\n"
   ]
  },
  {
   "cell_type": "markdown",
   "metadata": {
    "id": "YlmzSb0up4LB"
   },
   "source": [
    "### The Graph Convolutional Network\n",
    "\n",
    "The goal of the graph convolution is to take the feature vectors of all nodes $X\\in\\mathbb{R}^{n\\times c}$, and propagate them along the existing edges, to obtain updated representations $Z\\in\\mathbb{R}^{n\\times d}$.\n",
    "\n",
    "\n",
    "The GCN is initially motivated as performing a convolution, similarly as it is done in CNNs for images, for graph-structured data. In Kipf and Welling (2017), a theoretical derivation leads to the following formula:\n",
    "\n",
    "$$\n",
    "Z = \\tilde{D}^{-\\frac{1}{2}}\\tilde{A}\\tilde{D}^{-\\frac{1}{2}}XW\n",
    "$$\n",
    "\n",
    "where\n",
    "\n",
    "- $W\\in\\mathbb{R}^{c\\times d}$ is a matrix of parameters to be learned via gradient descent\n",
    "- $\\tilde{A} = A + I_n$, where $I_n$ is an $n\\times n$ identity matrix\n",
    "- $\\tilde{D}$ is the degree matrix computed with $\\tilde{A}$ as the adjacency matrix\n",
    "\n",
    "If we define $\\hat{A} = \\tilde{D}^{-\\frac{1}{2}}\\tilde{A}\\tilde{D}^{-\\frac{1}{2}}$, the graph convolution can be written as $Z = \\hat{A}XW$."
   ]
  },
  {
   "cell_type": "markdown",
   "metadata": {
    "id": "LL4b-MTvysBp"
   },
   "source": [
    "#### Question 4 (0.25 pt)\n",
    "\n",
    "Given the formula for the GCN, explain why it operates by propagating feature vectors across the graph. To answer this, it might be useful to recall the definitions of the adjacency and degree matrices, and how they are involved in the formula."
   ]
  },
  {
   "cell_type": "markdown",
   "metadata": {
    "id": "Vgx2SkTTyiSN"
   },
   "source": [
    "The multiplication of the **adjacency matrix** (or some function of it) with the matrix $X$ **has the effect of summing up feature vectors for all neighbouring nodes**. This is effectively propagating feature vectors across the graph. The **degree matrix** provides a normalization constant for each feature vector, just to keep the scale of the features.\n",
    "\n",
    "To give a more precise intuiton, it is helpful to write the formula above in vector form ([source](https://tkipf.github.io/graph-convolutional-networks/)):\n",
    "$$\n",
    "    z_{i} = \\sum_{j \\in \\mathcal{N}_i} \\frac{1}{c_{ij}}x_{j}W\n",
    "$$\n",
    "where we identify $x_j$ as the feature vectors (rows of $X$), $\\mathcal{N}_i$ is the set of neighbours of node $i$ and $c_{ij}$ is the normalization constant. The neighbours of the node $i$ are encoded as ones in the $i$-th row of the adjacency matrix $A$. $\\tilde{A}$ encodes the same information as $A$ plus adding self-loops. $\\tilde{D}$ is the degree matrix (taking into account self-loops), constructed as:\n",
    "$$\n",
    "    \\tilde{D}_{ii} = \\sum_j \\tilde{A}_{ij}\n",
    "$$\n",
    "which effectively normalizes the summed-up feature vectors according to the number of neighbors of each node. "
   ]
  },
  {
   "cell_type": "markdown",
   "metadata": {},
   "source": [
    "More generally we have ,for each layer $l$, the activations (with non-linearity $\\sigma$): \n",
    "$$\n",
    "H^{(l+1)} = σ(\\tilde{D}^{-\\frac{1}{2}}\\tilde{A}\\tilde{D}^{-\\frac{1}{2}}H^{(l)}W^{(l)})\n",
    "$$\n",
    "where $H^{(0)} = X$. From this it's clear how for each layer $l$, after we transform linearly the node features with $H^{(l)}W^{(l)} = M^{(l)}$, we propagate the transformed node features $M$ by one step over through the edges of the graph by multipling $M$ with the normalized adjacency matrix $\\hat{A}$. In fact, $\\hat{A}$ has on each row(representing a single node) non-zero values only for the adjacent nodes. Therefore it selects exclusively the values of the latter for each column of $M$ through the matrix multiplication. "
   ]
  },
  {
   "cell_type": "markdown",
   "metadata": {
    "id": "QUGABEqxylsd"
   },
   "source": [
    "#### Question 5 (0.5 pt)\n",
    "\n",
    "Compute the **normalized adjacency matrix** $\\hat{A}$. The result should be a sparse matrix."
   ]
  },
  {
   "cell_type": "code",
   "execution_count": 34,
   "metadata": {
    "id": "GPZbnSaSyDzO"
   },
   "outputs": [],
   "source": [
    "# Add self-loops. This will turn A into \\tilde{A}\n",
    "adj_mat.setdiag(1)\n",
    "\n",
    "# Sum along columns to get the diagonal\n",
    "diag = adj_mat.sum(axis=1).A1\n",
    "\n",
    "# Compute degree matrix\n",
    "d = scipy.sparse.diags_array(diag, shape=(nnodes, nnodes))\n",
    "\n",
    "# Compute \\hat{A}\n",
    "adj_mat_norm = ((d ** -(1/2)) @ adj_mat @ (d ** -(1/2))).tocoo()"
   ]
  },
  {
   "cell_type": "markdown",
   "metadata": {
    "id": "LLLdGdZoMEy-"
   },
   "source": [
    "#### Question 6 (0.5 pt)\n",
    "\n",
    "So far we have used scipy to build and compute sparse matrices. Since we want to train a GCN with PyTorch, we need to convert $\\hat{A}$ into a sparse PyTorch tensor. You can do this with the [`torch.sparse_coo_tensor()`](https://pytorch.org/docs/stable/generated/torch.sparse_coo_tensor.html) function, making sure to specify `torch.float` as the type."
   ]
  },
  {
   "cell_type": "code",
   "execution_count": 35,
   "metadata": {
    "id": "dgDsVHzEM32F"
   },
   "outputs": [],
   "source": [
    "import numpy as np\n",
    "\n",
    "assert adj_mat_norm.shape == (nnodes, nnodes)\n",
    "\n",
    "coords = np.array(adj_mat_norm.coords)\n",
    "values = adj_mat_norm.data\n",
    "\n",
    "adj_mat_norm_torch = torch.sparse_coo_tensor(indices=coords, values=values, size=(nnodes, nnodes), dtype=torch.float)"
   ]
  },
  {
   "cell_type": "markdown",
   "metadata": {
    "id": "eAlRVT5aODkX"
   },
   "source": [
    "#### Question 7 (0.5 pt)\n",
    "\n",
    "We now have all the ingredients to build a GCN layer. Implement a class (inheriting from `torch.nn.Module`) with a learnable matrix of weights $W\\in\\mathbb{R}^{c\\times d}$. Make sure to\n",
    "\n",
    "- Call this class `GCNLayer`\n",
    "- The `__init__()` constructor should take as argument the number of input and output features.\n",
    "- Use `torch.nn.init.kaiming_uniform_` to initialize $W$.\n",
    "- Define the `forward` method, which takes as input $X$ and $\\hat{A}$ and returns $Z$. Note that multiplications involving the sparse matrix $\\hat{A}$ have to be done with `torch.spmm`. \n",
    "\n",
    "Once you have implemented the class, instantiate a layer with the correct number of input features for the Cora dataset, and a number of output features of your choice. Do a forward pass and report the shape of the output tensor."
   ]
  },
  {
   "cell_type": "code",
   "execution_count": null,
   "metadata": {
    "id": "JFCohhhwPpTT"
   },
   "outputs": [],
   "source": [
    "import torch.nn.functional as F\n",
    "from torch.nn.parameter import Parameter\n",
    "\n",
    "class GCNLayer(torch.nn.Module):\n",
    "    def __init__(self, in_features, out_features):\n",
    "        super().__init__()\n",
    "        self.weights = Parameter(torch.empty(in_features, out_features))\n",
    "        self.bias = Parameter(torch.zeros(out_features))\n",
    "        torch.nn.init.kaiming_uniform_(self.weights.T, nonlinearity=\"relu\")\n",
    "    \n",
    "    def forward(self, input_m, adjacency_m):\n",
    "        assert adjacency_m.size(1) == input_m.size(0)\n",
    "        return torch.spmm(adjacency_m, F.linear(input_m, self.weights.T)) + self.bias\n",
    "\n",
    "out_features = 200\n",
    "gcn_layer = GCNLayer(in_features=in_features, out_features=out_features)\n",
    "\n",
    "# Forward pass\n",
    "output = gcn_layer(data.x, adj_mat_norm_torch)\n",
    "print(f\"The shape of the output is: {output.size()}\")"
   ]
  },
  {
   "cell_type": "markdown",
   "metadata": {
    "id": "1ptAiizZUKaM"
   },
   "source": [
    "#### Question 8 (0.5 pt)\n",
    "\n",
    "As we have seen so far, the GCN layer implements a special type of linear transformation of the inputs. However, it is often beneficial in deep learning to stack multiple, non-linear transformations of the input features. Implement a second module class for a model with two GCN layers (use the module you implemented in the previous question).\n",
    "\n",
    "- Call this class `GCN`\n",
    "- The constructor must now take as input the number of input features, the output dimension of the first layer (this is the hidden layer), and the output dimension of the output layer.\n",
    "- In the forward pass, add a ReLU activation function after the first layer."
   ]
  },
  {
   "cell_type": "code",
   "execution_count": 37,
   "metadata": {
    "id": "2zhyu3S9Vj3b"
   },
   "outputs": [],
   "source": [
    "class GCN(torch.nn.Module):\n",
    "    def __init__(self, in_features, n_hidden, n_output):\n",
    "        super().__init__()\n",
    "        self.gcn_layer_1 = GCNLayer(in_features=in_features, out_features=n_hidden)\n",
    "        self.gcn_layer_2 = GCNLayer(in_features=n_hidden, out_features=n_output)\n",
    "\n",
    "    def forward(self, x, adjacency):\n",
    "        x = self.gcn_layer_1(x, adjacency)\n",
    "        x = F.relu(x)\n",
    "        x = self.gcn_layer_2(x, adjacency)\n",
    "        return x"
   ]
  },
  {
   "cell_type": "markdown",
   "metadata": {
    "id": "6NVB-3I5Wfkf"
   },
   "source": [
    "### GCNs for semi-supervised node classification\n",
    "\n",
    "Now that we have a GCN with two layers, we can test its performance in a node classification task. We will pass the input node features $X$ through the GCN layers, and the output will be of size $n\\times k$ where $k$ is the number of classes (which you found in question 1). The label denotes the topic an article in the citation network belongs to (e.g. physics, computer science, etc.)."
   ]
  },
  {
   "cell_type": "markdown",
   "metadata": {
    "id": "trc4dSa7cuQj"
   },
   "source": [
    "#### Question 9 (1.5 pt)\n",
    "\n",
    "Note that the `data` object contains all labels (for all splits) in `data.y`, and binary masks for the train, validation, and test splits in `data.train_mask`, `data.val_mask`, and `data.test_mask`, respectively. These masks are the same size as `data.y`, and indicate which labels belong to which split.\n",
    "\n",
    "- Create a GCN with two layers (using the class from the previous question), with 32 as the hidden dimension, and the number of output features equal to the number of classes in the Cora dataset.\n",
    "\n",
    "- Use the Adam optimizer with a learning rate of 0.01.\n",
    "\n",
    "- Implement a training loop for the GCN. At each step, pass $X$ and $\\hat{A}$ to the GCN to obtain the logits. Compute the mean cross-entropy loss **only for the training instances**, using the binary masks.\n",
    "\n",
    "- After each training step, evaluate the accuracy for the validation instances.\n",
    "\n",
    "- Train for 100 epochs. Once training is finished, plot the training loss and validation accuracy (in a graph in function of the epoch number), and report the accuracy in the test set.\n",
    "\n",
    "You should obtain an accuracy over 75% on both the validation and test sets. You can also compare your results with the original paper, which also contains results for the Cora dataset. Give a brief discussion on the results of your experiments.\n",
    "\n",
    "Note that in contrast with other tasks, like image classification on some datasets, we don't use mini-batches here. The whole matrix of features and the adjacency is passed to the GCN in one step."
   ]
  },
  {
   "cell_type": "code",
   "execution_count": null,
   "metadata": {
    "id": "5Z2OP_ZRWlmo"
   },
   "outputs": [],
   "source": [
    "# We are taking inspiration from the PyG tutorial: https://pytorch-geometric.readthedocs.io/en/latest/get_started/introduction.html\n",
    "\n",
    "device = torch.device('cuda' if torch.cuda.is_available() else 'cpu')\n",
    "\n",
    "gcn = GCN(in_features=in_features, n_hidden=32, n_output=ntargets).to(device)\n",
    "\n",
    "optimizer = torch.optim.Adam(gcn.parameters(), lr=0.01)  #, weight_decay=5e-4) (?)\n",
    "criterion = torch.nn.CrossEntropyLoss()\n",
    "\n",
    "# Store data\n",
    "epochs = 100\n",
    "loss_train = torch.zeros(epochs)\n",
    "loss_val = torch.zeros_like(loss_train)\n",
    "acc_train = torch.zeros_like(loss_train)\n",
    "acc_val = torch.zeros_like(loss_train)\n",
    "\n",
    "# Move data to gpu\n",
    "X, t = data.x.to(device), data.y.to(device)\n",
    "adj = adj_mat_norm_torch.to(device)\n",
    "\n",
    "size_train = int(data.train_mask.sum())\n",
    "size_val = int(data.val_mask.sum())\n",
    "\n",
    "for e in range(epochs):\n",
    "    gcn.train()\n",
    "    print(f\"Epoch {e+1}\\n-------------------------------\")\n",
    "    optimizer.zero_grad()\n",
    "\n",
    "    ### Training set\n",
    "    # Forward\n",
    "    out = gcn(X, adj)[data.train_mask]\n",
    "    target = t[data.train_mask]\n",
    "\n",
    "    # Backpropagate\n",
    "    loss = criterion(out, target)\n",
    "    loss.backward()\n",
    "    optimizer.step()\n",
    "\n",
    "    # Metrics\n",
    "    loss_train[e] = loss.item() # / size_train\n",
    "    ncorrect = (out.argmax(1) == target).type(torch.float).sum().item()\n",
    "    acc_train[e] = ncorrect / size_train\n",
    "\n",
    "    ### Validation set\n",
    "    gcn.eval()\n",
    "    with torch.no_grad():\n",
    "        # Forward\n",
    "        out_val = gcn(X, adj)[data.val_mask]\n",
    "        target_val = t[data.val_mask]\n",
    "\n",
    "        # Metrics\n",
    "        loss_val[e] = criterion(out_val, target_val).item()#  / size_val\n",
    "        ncorrect = (out_val.argmax(1) == target_val).type(torch.float).sum().item()\n",
    "        acc_val[e] = ncorrect / size_val\n",
    "\n",
    "    print(f\"Training loss: {loss_train[e]:>5f} \\n Training accuracy: {acc_train[e]:>5f}\\n Validation accuracy: {acc_val[e]:.4f}\")\n",
    "\n",
    "print(\"Done!\")"
   ]
  },
  {
   "cell_type": "code",
   "execution_count": null,
   "metadata": {},
   "outputs": [],
   "source": [
    "### Training set\n",
    "with torch.no_grad():\n",
    "    test_out = gcn(X, adj)[data.test_mask]\n",
    "    test_target = t[data.test_mask]\n",
    "    test_accuracy = (test_out.argmax(1) == test_target).type(torch.float).mean().item()\n",
    "print(f\"Test Accuracy: {test_accuracy:.4f}\")"
   ]
  },
  {
   "cell_type": "code",
   "execution_count": null,
   "metadata": {},
   "outputs": [],
   "source": [
    "import matplotlib.pyplot as plt\n",
    "\n",
    "fig, ax = plt.subplots(1, 2, figsize=(14, 6))\n",
    "ax[0].plot(range(epochs), loss_train, label=\"Training loss\")\n",
    "ax[0].plot(range(epochs), loss_val, label=\"Validation loss\")\n",
    "ax[0].set_title(\"Loss per epoch\")\n",
    "ax[0].set_xlabel(\"Epochs\")\n",
    "ax[0].set_ylabel(\"Loss\")\n",
    "ax[0].legend()\n",
    "\n",
    "ax[1].plot(range(epochs), acc_train, label=\"Acc. train\")\n",
    "ax[1].plot(range(epochs), acc_val, label=\"Acc. val\")\n",
    "ax[1].set_title(\"Accuracy per epoch\")\n",
    "ax[1].set_xlabel(\"Epochs\")\n",
    "ax[1].set_ylabel(\"Accuracy\")\n",
    "ax[1].legend()\n",
    "\n",
    "plt.show()"
   ]
  },
  {
   "cell_type": "markdown",
   "metadata": {
    "id": "vb5YjHVClCqo"
   },
   "source": [
    "#### Question 10 (0.5 pt)\n",
    "\n",
    "The paper introduces GCNs as a way to solve a *semi-supervised* classification problem.\n",
    "\n",
    "- What makes this problem semi-supervised?\n",
    "- What is the proportion of labeled data used for training with respect to labeled data in the validation and test sets? What is difference in this context with other benchmark tasks in machine learning, like image classification with MNIST?\n",
    "- Why do you think the GCN performs well in this semi-supervised scenario?"
   ]
  },
  {
   "cell_type": "code",
   "execution_count": null,
   "metadata": {
    "id": "7qw58r1MmCUJ"
   },
   "outputs": [],
   "source": [
    "# Your answer here\n",
    "unique_labels, counts = torch.unique(data.y, return_counts=True)\n",
    "print(\"Unique labels:\", unique_labels)\n",
    "print(\"Counts per label:\", counts)"
   ]
  },
  {
   "cell_type": "code",
   "execution_count": null,
   "metadata": {},
   "outputs": [],
   "source": [
    "# count number of train values\n",
    "num_train_nodes = torch.sum(data.train_mask).item()\n",
    "print(\"Number of training nodes:\", num_train_nodes)\n",
    "\n",
    "num_val_nodes = torch.sum(data.val_mask).item()\n",
    "print(\"Number of validation nodes:\", num_val_nodes)\n",
    "\n",
    "num_test_nodes = torch.sum(data.test_mask).item()\n",
    "print(\"Number of test nodes:\", num_test_nodes)\n"
   ]
  },
  {
   "cell_type": "code",
   "execution_count": null,
   "metadata": {},
   "outputs": [],
   "source": [
    "print(\"Number of training nodes per class:\")\n",
    "for label in unique_labels:\n",
    "    num_train_nodes_per_class = torch.sum((data.y == label) & data.train_mask).item()\n",
    "    print(f\"Class {label}: {num_train_nodes_per_class}\")"
   ]
  },
  {
   "cell_type": "code",
   "execution_count": null,
   "metadata": {},
   "outputs": [],
   "source": [
    "num_train_nodes = torch.sum(data.train_mask).item()\n",
    "num_val_nodes = torch.sum(data.val_mask).item()\n",
    "num_test_nodes = torch.sum(data.test_mask).item()\n",
    "total_nodes = num_train_nodes + num_val_nodes + num_test_nodes\n",
    "total_graph_nodes = data.val_mask.shape[0]\n",
    "\n",
    "\n",
    "print(f\"Proportion of training data: {num_train_nodes / total_nodes:.4f}\")\n",
    "print(f\"Proportion of validation data: {num_val_nodes / total_nodes:.4f}\")\n",
    "print(f\"Proportion of test data: {num_test_nodes / total_nodes:.4f}\")\n",
    "\n",
    "\n",
    "print(f\"Proportion of training data considering all nodes: {num_train_nodes / total_graph_nodes:.4f}\")\n",
    "print(f\"Proportion of validation data considering all nodes: {num_val_nodes / total_graph_nodes:.4f}\")\n",
    "print(f\"Proportion of test data considering all nodes: {num_test_nodes / total_graph_nodes:.4f}\")"
   ]
  },
  {
   "cell_type": "markdown",
   "metadata": {},
   "source": [
    "\n",
    "**1)**\n",
    "\n",
    "What makes this problem semi-supervised is the fact that we use only 20 labeled examples per class for the training process. I imagine this to be common for ML tasks involving graphs as usually we have only have one large knowledge-base graph for which we want to extract additional data or predict missing links, that we do not already have with the exception of some examples.\n",
    "\n",
    "**2)** \n",
    "\n",
    "The exact proportion of training, validation and test data is 8.5%, 30.5% and 61% respectively, out of a total size of 1640 nodes considered by any of the masks. Intead, taking into account the total number of nodes in the graph, the proportions are 0.05%, 0.19% and 37% respectively. These proportions are far different with the ones that are commonly seen in other ML tasks in which we have tens of thousands of training data points as for the MNIST dataset. The latter has 60,000 images in the training set and 10,000 in the test set.\n",
    "\n",
    "**3)** \n",
    "\n",
    "We report two main reasons that could explain why GCN perform well in this semi-supervised scenario.\n",
    "\n",
    "The first one, as outlined [here](https://tkipf.github.io/graph-convolutional-networks/), revolves round the fact that we could see GCNs as a generalized and differentiable version of the Weisfeiler-Lehman algorithm for graphs. The latter, similarly to GCNs, for every step updates each node based on a summation of the features of all the adjacent nodes. After k steps the nodes can be clusterized based on their newly generated features.\n",
    "\n",
    "The second reason it's centered around the fact that graph data is fundamentally structured. On the other hand, for example, image data can be represented as points in a really high dimentional space for wich complex transformations have to be learned to map these points to the correct classes, because of this a higher amount of data is needed. Graph data, instead , already contains much of the information needed within their morphology, defined by the edges, and little transformations are needed, which can be effectively learned with few examples. \n",
    "\n",
    "Threfore, we could say that the main strenght of GCN is that they take advantage of this structure at every step of the computation through the adjacency matrix.\n",
    "\n",
    "\n"
   ]
  },
  {
   "cell_type": "markdown",
   "metadata": {
    "id": "4ihrjZddvz5d"
   },
   "source": [
    "### Loading a dataset of proteins\n",
    "\n",
    "In the previous sections you learned how to pass the adjacency matrix of a graph with a couple of thousand of nodes, to classify each node with a particular label. A different and useful application of GCNs is graph classification.\n",
    "\n",
    "In contrast with the previous part, where there was a single, big graph, in graph classification we have multiple graphs, and each graph can be assigned a label. In this part of the assignment you will implement a classifier for proteins.\n",
    "\n",
    "[Proteins](https://en.wikipedia.org/wiki/Protein_(nutrient)) are parts of the buildings block of life. They consist of chains of amino acids, and can take many shapes. In the PROTEINS dataset, proteins are represented as graphs, where the nodes are amino acids, and an edge between them indicates that they are 6 [Angstroms](https://en.wikipedia.org/wiki/Angstrom) apart. All graphs have a binary label, where 1 means that the protein is not an enzyme.\n",
    "\n",
    "We will start by loading and examining this dataset."
   ]
  },
  {
   "cell_type": "code",
   "execution_count": 18,
   "metadata": {
    "colab": {
     "base_uri": "https://localhost:8080/"
    },
    "id": "xmqweMcvnUH6",
    "outputId": "f10d56ce-4b1b-4925-bc61-58c49b22adb1"
   },
   "outputs": [],
   "source": [
    "from torch_geometric.datasets import TUDataset\n",
    "dataset = TUDataset(root='data/TU', name='PROTEINS', use_node_attr=True)"
   ]
  },
  {
   "cell_type": "markdown",
   "metadata": {
    "id": "_oF1gyKPXiz-"
   },
   "source": [
    "#### Question 11 (0.25 pt)\n",
    "\n",
    "Unlike in the previous part, where we selected the first element returned by the loading function, note that here we get all the elements returned by `TUDataset()`. `dataset` is an interable object, that has some similar behaviors as a Python list: you can call `len()` on it, and you can takes slices from it.\n",
    "\n",
    "Each element in `dataset` is a `Data` object containing a graph that represents a protein. This is the same type of object that we used in the previous part to store the Cora citation network.\n",
    "\n",
    "Knowing this, answer the following:\n",
    "\n",
    "- How many proteins (graphs) are there in `dataset`?\n",
    "- Take any protein from `dataset`. How many nodes and edges does it contain? What is its label? How many features does each node have?"
   ]
  },
  {
   "cell_type": "code",
   "execution_count": null,
   "metadata": {
    "id": "ZNPsnXXbbHHe"
   },
   "outputs": [],
   "source": [
    "n_proteins = len(dataset)\n",
    "prot_i = 18\n",
    "\n",
    "data = dataset[prot_i]\n",
    "nnodes = data.num_nodes\n",
    "in_features = data.num_node_features\n",
    "is_not_enzyme = data.y.item()\n",
    "\n",
    "# Just chekin\n",
    "assert all(d.num_node_features == in_features for d in dataset)\n",
    "\n",
    "nedges = data.num_edges\n",
    "\n",
    "# Also possible\n",
    "assert (nnodes, in_features) == data.x.size()\n",
    "\n",
    "print(f\"\"\"\n",
    "Number of proteins: {n_proteins}\\n\n",
    "## Protein with index {prot_i}:\n",
    "\\tNumber of nodes: {nnodes}\n",
    "\\tNumber of edges: {nedges}\n",
    "\\tNumber of features per node: {in_features}\n",
    "\\tThe label of protein {prot_i} is: {is_not_enzyme}, so it {'IS NOT' if is_not_enzyme else 'IS'} an enzyme\n",
    "\"\"\")"
   ]
  },
  {
   "cell_type": "markdown",
   "metadata": {
    "id": "kHSklBZXpKpR"
   },
   "source": [
    "#### Question 12 (0.5 pt)\n",
    "\n",
    "To properly train and evaluate our model, we need training, validation, and test splits.\n",
    "\n",
    "For reproducibility purposes, we generate a random tensor of indices for you. Use it to extract the three splits from `dataset`.\n",
    "\n",
    "For training, take 80% of the indices (starting from the first element in `indices`), then the following 10% for validation, and the remaining 10% for testing. You can use the indices to index `dataset`.\n",
    "\n",
    "Call the resulting splits `train_dataset`, `valid_dataset`, and `test_dataset`."
   ]
  },
  {
   "cell_type": "code",
   "execution_count": null,
   "metadata": {
    "id": "ttY4d1GInn08"
   },
   "outputs": [],
   "source": [
    "# Don't erase the following three lines\n",
    "import torch\n",
    "import math\n",
    "torch.random.manual_seed(0)\n",
    "indices = torch.randperm(len(dataset))\n",
    "\n",
    "length = len(indices)\n",
    "print(f\"Lenght of the dataset: {length}\")\n",
    "#train_dataset = [dataset[i] for i in indices[:math.floor(length * 0.8)]]\n",
    "\n",
    "train_dataset = dataset[indices[:math.floor(length * 0.8)]]\n",
    "#valid_dataset =  [dataset[i] for i in indices[math.floor(length * 0.8):math.floor(length * 0.9)]]\n",
    "\n",
    "valid_dataset = dataset[indices[math.floor(length * 0.8):math.floor(length * 0.9)]]\n",
    "#test_dataset = [dataset[i] for i in indices[math.floor(length * 0.9):]]\n",
    "\n",
    "test_dataset = dataset[indices[math.floor(length * 0.9):]]\n",
    "print(\"Lenght of training set: {}, lenght of validation set: {}, lenght of test set: {}\".\n",
    "format(len(train_dataset),len(valid_dataset),len(test_dataset)))"
   ]
  },
  {
   "cell_type": "markdown",
   "metadata": {
    "id": "rDJbB4CQqsfp"
   },
   "source": [
    "### Working with a batch of graphs\n",
    "\n",
    "When working with the Cora dataset, you used the information in `data.edge_index` to build the sparse normalized adjacency matrix $\\hat{A}$ that is required by the GCN. We could do something similar here: for each graph, we build $\\hat{A}$, and pass it to the GCN. However, if the number of graphs is big, this can really slow down training.\n",
    "\n",
    "To avoid this, we will resort to a very useful trick that also allows us to reuse the same GCN you implemented previously. The trick makes it possible to do a forward pass through the GCN for multiple, disconnected graphs at the same time (instead of only one), much like when you train with mini-batches for other kinds of data.\n",
    "\n",
    "Let's first revisit the propagation rule of the GCN, $Z = \\hat{A}XW$, with an illustration (we have omitted the cells of $X$ and $W$ for clarity):\n",
    "\n",
    "<img src=\"https://raw.githubusercontent.com/dfdazac/dlvu-a5/main/img/02-gcn-forward.png\">\n",
    "\n",
    "If we have multiple graphs, we can still use the same propagation rule, if we\n",
    "\n",
    "- Set $\\hat{A}$ to be a block diagonal matrix, where the blocks are the different adjacency matrices of the graphs\n",
    "- Concatenate the feature matrices along the first dimension\n",
    "\n",
    "This is illustrated in the following figure, for a batch of 3 graphs. Note that the elements outside of the blocks are zero.\n",
    "\n",
    "<img src=\"https://raw.githubusercontent.com/dfdazac/dlvu-a5/main/img/02-gcn-batch-forward.png\">\n",
    "\n",
    "The resulting adjacency matrix $\\hat{A}_B$ can also be built as a sparse matrix, and once we have it together with the concatenated matrix of features, the computation of the graph convolution is exactly the same as before. Note how this trick also allows us to process graphs with different sizes and structures.\n"
   ]
  },
  {
   "cell_type": "markdown",
   "metadata": {
    "id": "0DLPJ62b2mQ6"
   },
   "source": [
    "#### Question 13 (0.5 pt)\n",
    "\n",
    "\n",
    "Just as the citation network, the graphs in each of the datasets you created in Question 12 also have an `edge_index` attribute, which can be used to compute the normalized adjacency matrix $\\hat{A}$, for each graph.\n",
    "\n",
    "Reusing your code for Questions 3 and 5, define a function `get_a_norm()` that takes as input an element of a dataset (e.g. `train_dataset[0]`), and returns a `scipy.sparse` matrix containing $\\hat{A}$.\n",
    "\n",
    "Note that an element of a dataset has properties like `num_edges`, `num_nodes`, etc. which you can use here."
   ]
  },
  {
   "cell_type": "code",
   "execution_count": 21,
   "metadata": {
    "id": "4nvPX2GB8oXp"
   },
   "outputs": [],
   "source": [
    "# Your answer here\n",
    "def get_a_norm(data):\n",
    "\n",
    "    row = data.edge_index[0, :]\n",
    "    col = data.edge_index[1, :]\n",
    "    nedges = data.num_edges\n",
    "    nnodes = data.num_nodes\n",
    "    assert len(row) == len(col) == nedges\n",
    "\n",
    "    # We just put ones for neighbours\n",
    "    values = torch.ones(nedges)\n",
    "\n",
    "    shape = (nnodes, nnodes)\n",
    "\n",
    "    adj_mat = scipy.sparse.coo_matrix((values, (row, col)), shape=shape)\n",
    "\n",
    "    # Add self-loops. This will turn A into \\tilde{A}\n",
    "    adj_mat.setdiag(1)\n",
    "\n",
    "    # Sum along columns to get the diagonal\n",
    "    diag = adj_mat.sum(axis=1).A1\n",
    "\n",
    "    # Compute degree matrix\n",
    "    d = scipy.sparse.diags_array(diag, shape=(nnodes, nnodes))\n",
    "\n",
    "    # Compute \\hat{A}\n",
    "    return ((d ** -(1/2)) @ adj_mat @ (d ** -(1/2))).tocoo()\n",
    "\n"
   ]
  },
  {
   "cell_type": "markdown",
   "metadata": {
    "id": "cBrmYBY3AfhW"
   },
   "source": [
    "#### Question 14 (1 pt)\n",
    "\n",
    "To prepare the batch of graphs, we need to collect multiple adjacency matrices, feature matrices, and labels.\n",
    "\n",
    "When using the trick described in the last figure, we see that we have to keep track of when a graph starts and when it ends, so that we can later differentiate the outputs due to $X^{(0)}$, $X^{(1)}$, etc. To achieve this, we will additionally collect a 1D array of batch indices, one for each $X^{(i)}$.\n",
    "\n",
    "The 1D array has as many elements as rows in $X^{(i)}$, and it is filled with the value $i$ (the position of $X^{(i)}$ in the batch):\n",
    "\n",
    "<img src=\"https://raw.githubusercontent.com/dfdazac/dlvu-a5/main/img/03-batch-indices.png\">\n",
    "\n",
    "We will later concatenate all the 1D arrays along the first dimension, just as we will do with all the $X^{(i)}$.\n",
    "\n",
    "Define a function `prepare_graphs_batch()` that takes as input a dataset (e.g. `train_dataset`), and does the following\n",
    "\n",
    "- Create four empty lists:\n",
    "  - `adj_matrices`\n",
    "  - `feature_matrices`\n",
    "  - `batch_indices`\n",
    "  - `labels`\n",
    "- Iterate over the input dataset, getting one graph at a time. At each step, use your function from Question 13 to append the adjacency matrix to `adj_matrices`, append the matrix of input features to `feature_matrices`, create the array of batch indices (as explained above) and append it to `batch_indices`, and append the label of the graph to `labels`. **Make sure to convert the label to float**.\n",
    "- Once the loop is over, use `scipy.sparse.block_diag()` to build the block diagonal matrix $\\hat{A}_B$. Convert it to the COO format, and then use your answer to Question 6 to turn it into a sparse PyTorch tensor.\n",
    "- Use `torch.cat()` to concatenate the tensors in `feature_matrices` along the first dimension. Do this also for `batch_indices` and `labels`.\n",
    "- Return the 4 tensors computed in the previous two items."
   ]
  },
  {
   "cell_type": "code",
   "execution_count": 24,
   "metadata": {
    "id": "SsQ0-JjSqFgD"
   },
   "outputs": [],
   "source": [
    "def prepare_graphs_batch(graphs):\n",
    "    adj_matrices, feature_matrices, batch_indices, labels = [], [], [], []\n",
    "\n",
    "    batch_num = 0\n",
    "    for graph in graphs:\n",
    "        labels.append(graph.y.float())\n",
    "        batch_indices.append(torch.tensor([batch_num for _ in range(0,graph.x.shape[0])],dtype=torch.int64))\n",
    "        feature_matrices.append(graph.x)\n",
    "\n",
    "        #do the adj_matrix \n",
    "        matrix = get_a_norm(graph)\n",
    "        adj_matrices.append(matrix)\n",
    "        batch_num += 1\n",
    "        \n",
    "    labels = torch.cat(labels,dim=0)\n",
    "    feature_matrices = torch.cat(feature_matrices,dim=0)\n",
    "    batch_indices = torch.cat(batch_indices,dim=0)\n",
    "\n",
    "    # creat block diagonal adjacency matrix\n",
    "    block_adj = scipy.sparse.block_diag(adj_matrices)\n",
    "\n",
    "    coords = np.array(block_adj.coords)\n",
    "    values = block_adj.data\n",
    "    nnodes = block_adj.shape[0]\n",
    "    block_adj_torch = torch.sparse_coo_tensor(indices=coords, values=values, size=(nnodes, nnodes), dtype=torch.float)\n",
    "\n",
    "\n",
    "    return block_adj_torch, feature_matrices, batch_indices, labels\n",
    "\n"
   ]
  },
  {
   "cell_type": "markdown",
   "metadata": {
    "id": "i73P_EU0MSPX"
   },
   "source": [
    "Once your answer for the previous question is ready, you can run the next cell to prepare all the required information, for the train, validation, and test splits."
   ]
  },
  {
   "cell_type": "code",
   "execution_count": 25,
   "metadata": {
    "id": "Iol5FxJGMmAU"
   },
   "outputs": [],
   "source": [
    "train_a_norm, train_features, train_batch_idx, train_labels = prepare_graphs_batch(train_dataset)\n",
    "valid_a_norm, valid_features, valid_batch_idx, valid_labels = prepare_graphs_batch(valid_dataset)\n",
    "test_a_norm, test_features, test_batch_idx, test_labels = prepare_graphs_batch(test_dataset)"
   ]
  },
  {
   "cell_type": "markdown",
   "metadata": {
    "id": "R6q-JU87NClh"
   },
   "source": [
    "### GCNs for graph classification\n",
    "\n",
    "We now have all the ingredients to pass a batch of graphs to a GCN. However, for each graph in the batch, the output $Z^{(i)}$ contains one row for each node in the graph. If the goal is to do classification at the graph level, we have to *pool* these vectors to then compute the required logits for classification.\n",
    "\n",
    "This operation is similar as how pooling works in a CNN. We could consider taking the mean of the vectors, the sum, or use max-pooling. The difference with respect to CNNs is that in our case, we have a batch of graphs, each potentially with a different number of nodes.\n",
    "\n",
    "To implement this specific pooling, we can use the scatter operation in the `torch_scatter` library, which comes when installing PyG. We will use it, together with the tensor of batch indices from the previous two questions, to pool the outputs of the GCN for each graph, into a single vector:\n",
    "\n",
    "<img src=\"https://raw.githubusercontent.com/dfdazac/dlvu-a5/main/img/04-scatter.png\">\n",
    "\n",
    "You can check more details in the [documentation](https://pytorch-scatter.readthedocs.io/en/latest/functions/scatter.html)."
   ]
  },
  {
   "cell_type": "markdown",
   "metadata": {
    "id": "QY87DX1uRhnY"
   },
   "source": [
    "#### Question 15 (1.0 pt)\n",
    "\n",
    "Implement a `GraphClassifier` module using PyTorch.\n",
    "\n",
    "- The constructor should take as arguments the number of input features, the hidden dimension, and the number of classes.\n",
    "- The model should contain a instance of the `GCN` module (as you implemented it in Question 8). Use the same value for the hidden dimension and the number of output features (recall that your `GCN` module from Question 8 has two GCN layers).\n",
    "- The model should also contain a `torch.nn.Linear` layer, with the hidden dimension as the input features, and the number of classes as the output.\n",
    "- The forward method receives the concatenated matrix of features, the sparse block diagonal adjacency matrix, and the batch indices (the latter is used when calling `scatter`).\n",
    "- Use the following architecture in the forward pass:\n",
    "  - GCN $\\to$ ReLU $\\to$ scatter (max) $\\to$ Linear.\n",
    "\n",
    "The output of the forward should be a 1D tensor (you might need to call `squeeze` to get rid of extra dimensions) containing the logits for all graphs in the batch, for the binary classification task."
   ]
  },
  {
   "cell_type": "code",
   "execution_count": null,
   "metadata": {
    "id": "750WraywwYDH"
   },
   "outputs": [],
   "source": [
    "from torch_scatter import scatter\n",
    "\n",
    "\n",
    "import torch.nn.functional as F\n",
    "\n",
    "class GraphClassifer(torch.nn.Module):\n",
    "\n",
    "    def __init__(self, in_features, n_hidden, n_output):\n",
    "        super().__init__()\n",
    "\n",
    "        self.gcn = GCN(in_features=in_features, n_hidden=n_hidden, n_output=n_hidden)\n",
    "\n",
    "        self.fc = torch.nn.Linear(n_hidden, n_output)\n",
    "\n",
    "    def forward(self, x, adjacency, batch_idx):\n",
    "        x = self.gcn(x, adjacency)\n",
    "        x = F.relu(x)\n",
    "        x = scatter(x, batch_idx, dim=0, reduce='max')\n",
    "        x = self.fc(x)\n",
    "        return x.squeeze()\n",
    "        # return F.log_softmax(x, dim=1).squeeze()\n",
    "\n",
    "\n",
    "\n",
    "in_features = train_features.shape[1]\n",
    "graph_classifier = GraphClassifer(in_features=in_features, n_hidden=32, n_output=1)\n",
    "output = graph_classifier(train_features, train_a_norm, train_batch_idx)\n",
    "print(output.size())\n",
    "\n",
    "assert output.size()[0] == len(train_dataset)\n"
   ]
  },
  {
   "cell_type": "markdown",
   "metadata": {
    "id": "C1PHy-_vTjgh"
   },
   "source": [
    "#### Question 16 (1.5 pt)\n",
    "\n",
    "Implement a training loop for the graph classifier. Use the data from Question 14 to train and evaluate the model.\n",
    "\n",
    "We encourage you to use a GPU in this section for faster training. Note that if you change the runtime at this point, you must re-execute several of the cells above, including the ones that install PyG.\n",
    "\n",
    "- Instantiate a classifier with 32 as the hidden dimension\n",
    "- Use Adam with a learning rate of 1e-3.\n",
    "- Use `torch.nn.BCEWithLogitsLoss` as the loss function.\n",
    "- Train for 5,000 epochs. Once training is done, plot the loss curve and the accuracy in the validation set. Then report the accuracy in the test set.\n",
    "\n",
    "**Note:** the logits from the output of the classifier come from a linear layer. To compute actual predictions for the calculation of the accuracy, pass the logits through `torch.sigmoid()`, and set the predicted values to 1 whenever they are greater than 0.5, and to 0 otherwise.\n",
    "\n",
    "You should get an accuracy equal to or higher than 70% in the validation and test sets. Can you beat the [state-of-the-art](https://paperswithcode.com/sota/graph-classification-on-proteins)? Feel free to modify your architecture and experiment with it.\n",
    "\n",
    "Discuss what you observe during training and your results."
   ]
  },
  {
   "cell_type": "code",
   "execution_count": 50,
   "metadata": {
    "id": "9DbGAs8W2Xja"
   },
   "outputs": [],
   "source": [
    "# If your runtime is GPU-enabled, use .to(device) to move the model\n",
    "# and all the relevant tensors to the GPU. You have to move tensors back to CPU\n",
    "# when computing metrics like accuracy, using .cpu().\n",
    "\n",
    "# Your answer here\n",
    "\n",
    "from torch import optim\n",
    "from torch import nn\n",
    "\n",
    "def train_graph_classifier(train_a_norm, train_features, train_batch_idx, train_labels,\n",
    "                           valid_a_norm, valid_features, valid_batch_idx, valid_labels,\n",
    "                           test_a_norm, test_features, test_batch_idx, test_labels,\n",
    "                           epochs=5000, learning_rate=1e-3, hidden_dim=32):\n",
    "    \n",
    "    device = torch.device('cuda' if torch.cuda.is_available() else 'cpu')\n",
    "\n",
    "    # Model, Optimizer, Loss\n",
    "    in_features = train_features.shape[1]\n",
    "    model = GraphClassifer(in_features=in_features, n_hidden=hidden_dim, n_output=1).to(device)\n",
    "    optimizer = optim.Adam(model.parameters(), lr=learning_rate)\n",
    "    criterion = nn.BCEWithLogitsLoss()\n",
    "\n",
    "    # Move data to device\n",
    "    train_a_norm = train_a_norm.to(device)\n",
    "    train_features = train_features.to(device)\n",
    "    train_batch_idx = train_batch_idx.to(device)\n",
    "    train_labels = train_labels.to(device)\n",
    "    \n",
    "    valid_a_norm = valid_a_norm.to(device)\n",
    "    valid_features = valid_features.to(device)\n",
    "    valid_batch_idx = valid_batch_idx.to(device)\n",
    "    valid_labels = valid_labels.to(device)\n",
    "\n",
    "    test_a_norm = test_a_norm.to(device)\n",
    "    test_features = test_features.to(device)\n",
    "    test_batch_idx = test_batch_idx.to(device)\n",
    "    test_labels = test_labels.to(device)\n",
    "\n",
    "    # Store data\n",
    "    loss_train = torch.zeros(epochs)\n",
    "    loss_val = torch.zeros_like(loss_train)\n",
    "    acc_train = torch.zeros_like(loss_train)\n",
    "    acc_val = torch.zeros_like(loss_train)\n",
    "\n",
    "\n",
    "    # Training loop\n",
    "    for epoch in range(epochs):\n",
    "        model.train()\n",
    "        optimizer.zero_grad()\n",
    "\n",
    "        # Forward pass\n",
    "        output = model(train_features, train_a_norm, train_batch_idx)\n",
    "\n",
    "        # Loss Computation\n",
    "        loss = criterion(output, train_labels)\n",
    "\n",
    "        # Backprop\n",
    "        loss.backward()\n",
    "        optimizer.step()\n",
    "\n",
    "        # Metrics\n",
    "        loss_train[epoch] = loss.item()\n",
    "        predicted_train = torch.sigmoid(output)\n",
    "        acc_train[epoch] = ((predicted_train>0.5)==train_labels).float().mean()\n",
    "\n",
    "        # Validation\n",
    "        model.eval()\n",
    "        with torch.no_grad():\n",
    "            output_val = model(valid_features, valid_a_norm, valid_batch_idx)\n",
    "            loss_val[epoch] = criterion(output_val, valid_labels).item()\n",
    "            predicted_val = torch.sigmoid(output_val)\n",
    "            acc_val[epoch] = ((predicted_val>0.5)==valid_labels).float().mean()\n",
    "        print(f\"Epoch {epoch+1}\\n-------------------------------\")\n",
    "        print(f\"Training loss: {loss_train[epoch]:>5f} \\n Training accuracy: {acc_train[epoch]:>5f}\\n Validation accuracy: {acc_val[epoch]:.4f}\")\n",
    "\n",
    "    print(\"Finished Training\")\n",
    "\n",
    "    # Test\n",
    "    model.eval()\n",
    "    with torch.no_grad():\n",
    "        test_output = model(test_features, test_a_norm, test_batch_idx)\n",
    "        test_predicted = torch.sigmoid(test_output)\n",
    "        test_acc = ((test_predicted>0.5)==test_labels).float().mean()\n",
    "        print(f\"Test Accuracy: {test_acc:.4f}\")\n",
    "    \n",
    "    import matplotlib.pyplot as plt\n",
    "\n",
    "    fig, ax = plt.subplots(1, 2, figsize=(14, 6))\n",
    "    ax[0].plot(range(epochs), loss_train, label=\"Training loss\")\n",
    "    ax[0].plot(range(epochs), loss_val, label=\"Validation loss\")\n",
    "    ax[0].set_title(\"Loss per epoch\")\n",
    "    ax[0].set_xlabel(\"Epochs\")\n",
    "    ax[0].set_ylabel(\"Loss\")\n",
    "    ax[0].legend()\n",
    "\n",
    "    ax[1].plot(range(epochs), acc_train, label=\"Acc. train\")\n",
    "    ax[1].plot(range(epochs), acc_val, label=\"Acc. val\")\n",
    "    ax[1].set_title(\"Accuracy per epoch\")\n",
    "    ax[1].set_xlabel(\"Epochs\")\n",
    "    ax[1].set_ylabel(\"Accuracy\")\n",
    "    ax[1].legend()\n",
    "\n",
    "    plt.show()\n",
    "\n",
    "\n",
    "train_graph_classifier(train_a_norm, train_features, train_batch_idx, train_labels,\n",
    "                           valid_a_norm, valid_features, valid_batch_idx, valid_labels,\n",
    "                           test_a_norm, test_features, test_batch_idx, test_labels,\n",
    "                           epochs=5000, learning_rate=1e-3, hidden_dim=32)\n"
   ]
  },
  {
   "cell_type": "markdown",
   "metadata": {
    "id": "MvmAfDNMcnKD"
   },
   "source": [
    "## The end\n",
    "\n",
    "If you have made it all the way here successfully, congratulations! 🎉 \n",
    "\n",
    "You have implemented your own GCN and tested it on a node classification task, and a more challenging classification task over multiple graphs.\n",
    "\n",
    "We hope you can use this knowledge to apply GCNs not only to the tasks described here, but other applications where data can be modeled as a graph.\n",
    "\n",
    "If you are interested in applying graph neural networks to larger graphs, or try newer architectures, you can dive deeper into [PyTorch Geometric](https://pytorch-geometric.readthedocs.io/en/latest/), a library with fast implementations for a wide range of architectures. It also comes with custom code that takes care of aspects that you dealt with manually for this assignment, like a more efficient implementation of the adjacency matrix multiplication via message-passing methods, and Data Loaders that relieve you from having to build block diagonal sparse matrices.\n",
    "\n",
    "You can also check the [Deep Graph Library](https://docs.dgl.ai/) another powerful library for deep learning on graphs which also integrates with other backends like TensorFlow."
   ]
  },
  {
   "cell_type": "markdown",
   "metadata": {
    "id": "l7QhyAMms8-L"
   },
   "source": [
    "# Grading (10pt)"
   ]
  },
  {
   "cell_type": "markdown",
   "metadata": {
    "id": "juIdxXhos-mV"
   },
   "source": [
    "- Question 1: 0.25pt \n",
    "- Question 2: 0.25pt \n",
    "- Question 3: 0.5pt \n",
    "- Question 4: 0.25pt \n",
    "- Question 5: 0.5pt \n",
    "- Question 6: 0.5pt \n",
    "- Question 7: 0.5pt \n",
    "- Question 8: 0.5pt \n",
    "- Question 9: 1.5pt \n",
    "- Question 10: 0.5pt \n",
    "- Question 11: 0.25pt \n",
    "- Question 12: 0.5pt \n",
    "- Question 13: 0.5pt \n",
    "- Question 14: 1pt\n",
    "- Question 15: 1pt\n",
    "- Question 16: 1.5pt"
   ]
  }
 ],
 "metadata": {
  "accelerator": "GPU",
  "colab": {
   "provenance": [],
   "toc_visible": true
  },
  "kernelspec": {
   "display_name": ".venv",
   "language": "python",
   "name": "python3"
  },
  "language_info": {
   "codemirror_mode": {
    "name": "ipython",
    "version": 3
   },
   "file_extension": ".py",
   "mimetype": "text/x-python",
   "name": "python",
   "nbconvert_exporter": "python",
   "pygments_lexer": "ipython3",
   "version": "3.12.3"
  }
 },
 "nbformat": 4,
 "nbformat_minor": 0
}
