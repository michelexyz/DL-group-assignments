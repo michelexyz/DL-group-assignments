{
  "cells": [
    {
      "cell_type": "markdown",
      "metadata": {
        "id": "aJ_pmgxvGur9"
      },
      "source": [
        "# Assignment 4b - Graph Convolutional Networks\n",
        "## Deep Learning Course - Vrije Universiteit Amsterdam, 2024"
      ]
    },
    {
      "cell_type": "markdown",
      "metadata": {
        "id": "mEneMITS2agU"
      },
      "source": [
        "#### Instructions on how to use this notebook:\n",
        "\n",
        "This notebook is hosted on Google Colab. To be able to work on it, you have to create your own copy. Go to *File* and select *Save a copy in Drive*.\n",
        "\n",
        "You can also avoid using Colab entirely, and download the notebook to run it on your own machine. If you choose this, go to *File* and select *Download .ipynb*.\n",
        "\n",
        "The advantage of using Colab is that you can use a GPU. You can complete this assignment with a CPU, but it will take a bit longer. Furthermore, we encourage you to train using the GPU not only for faster training, but also to get experience with this setting. This includes moving models and tensors to the GPU and back. This experience is very valuable because for many interesting models and large datasets (like large CNNs for ImageNet, or Transformer models trained on Wikipedia), training on GPU is the only feasible way.\n",
        "\n",
        "The default Colab runtime does not have a GPU. To change this, go to *Runtime - Change runtime type*, and select *GPU* as the hardware accelerator. The GPU that you get changes according to what resources are available at the time, and its memory can go from a 5GB, to around 18GB if you are lucky. If you are curious, you can run the following in a code cell to check:\n",
        "\n",
        "```sh\n",
        "!nvidia-smi\n",
        "```\n",
        "\n",
        "Note that despite the name, Google Colab does  not support collaborative work without issues. When two or more people edit the notebook concurrently, only one version will be saved. You can choose to do group programming with one person sharing the screen with the others, or make multiple copies of the notebook to work concurrently.\n",
        "\n",
        "**Submission:** Upload your notebook in .ipynb format to Canvas. The code and answers to the questions in the notebook are sufficient, no separate report is expected. "
      ]
    },
    {
      "cell_type": "code",
      "execution_count": 1,
      "metadata": {
        "colab": {
          "base_uri": "https://localhost:8080/"
        },
        "id": "lBgoJIpdLI2Y",
        "outputId": "2f4f1d93-2f77-4ed1-ab7d-ab814daab38e"
      },
      "outputs": [
        {
          "name": "stdout",
          "output_type": "stream",
          "text": [
            "Fri Dec 20 22:34:33 2024       \n",
            "+-----------------------------------------------------------------------------------------+\n",
            "| NVIDIA-SMI 550.120                Driver Version: 550.120        CUDA Version: 12.4     |\n",
            "|-----------------------------------------+------------------------+----------------------+\n",
            "| GPU  Name                 Persistence-M | Bus-Id          Disp.A | Volatile Uncorr. ECC |\n",
            "| Fan  Temp   Perf          Pwr:Usage/Cap |           Memory-Usage | GPU-Util  Compute M. |\n",
            "|                                         |                        |               MIG M. |\n",
            "|=========================================+========================+======================|\n",
            "|   0  NVIDIA GeForce RTX 3050 ...    Off |   00000000:01:00.0  On |                  N/A |\n",
            "| N/A   50C    P3              9W /   60W |     137MiB /   6144MiB |      6%      Default |\n",
            "|                                         |                        |                  N/A |\n",
            "+-----------------------------------------+------------------------+----------------------+\n",
            "                                                                                         \n",
            "+-----------------------------------------------------------------------------------------+\n",
            "| Processes:                                                                              |\n",
            "|  GPU   GI   CI        PID   Type   Process name                              GPU Memory |\n",
            "|        ID   ID                                                               Usage      |\n",
            "|=========================================================================================|\n",
            "|    0   N/A  N/A      2626      G   /usr/lib/xorg/Xorg                            133MiB |\n",
            "+-----------------------------------------------------------------------------------------+\n"
          ]
        }
      ],
      "source": [
        "!nvidia-smi"
      ]
    },
    {
      "cell_type": "markdown",
      "metadata": {
        "id": "tsdc7fDp40rQ"
      },
      "source": [
        "### Introduction\n",
        "\n",
        "Graphs are very useful data structures that allow us to represent sets of entities and the way they are related among each other. In a graph, entities are also known as *nodes*, and any link between entities is also called an *edge*.\n",
        "\n",
        "Examples of real world objects that can be modeled as graphs are social networks, where entities are people and relations denote friendship; and molecules, where entities are atoms and relations indicate a bond between them.\n",
        "\n",
        "There has been increased interest in the recent years in the application of deep learning architectures to graph-structured data, for tasks like predicting missing relations between entities, classifying entities, and classifying graphs. This interest has been spurred by the introduction of Graph Convolutional Networks (GCNs).\n",
        "\n",
        "In this assignment, you will implement and experiment with one of the first versions of the GCN, proposed by Thomas Kipf and Max Welling in their 2017 paper, [Semi-supervised Classification with Graph Convolutional Networks](https://arxiv.org/abs/1609.02907). In particular, the goals of this assignment are to\n",
        "\n",
        "- Understand how GCNs are formulated\n",
        "- Implement the GCN using PyTorch\n",
        "- Train and evaluate a model for semi-supervised node classification in citation networks\n",
        "- Train and evaluate a model for binary classification of molecules"
      ]
    },
    {
      "cell_type": "markdown",
      "metadata": {
        "id": "RvsuVNczG6pP"
      },
      "source": [
        "### Representing graphs\n",
        "\n",
        "Suppose we have the following graph:\n",
        "\n",
        "<img src=\"https://raw.githubusercontent.com/dfdazac/dlvu-a5/main/img/01-graph.png\" width=\"200\">\n",
        "\n",
        "This is an undirected graph (since the edges have no specified direction) with 4 nodes. One way to represent the connectivity structure of the graph is by means of the **adjacency matrix**. The $i$-th row of the matrix contains a 1 in the $j$-th column, if nodes $i$ and $j$ are connected. For an undirected graph like the one above, this means that the adjacency matrix\n",
        "\n",
        "- Is symmetric (e.g. an edge between 0 and 2 is equivalent as an edge between 2 and 0)\n",
        "- Is square, of size $n\\times n$ where $n$ is the number of nodes\n",
        "\n",
        "The adjacency matrix for the graph above is then the following:\n",
        "\n",
        "$$\n",
        "A =\n",
        "\\begin{bmatrix}\n",
        "0 & 0 & 1 & 0 \\\\ \n",
        "0 & 0 & 1 & 0 \\\\\n",
        "1 & 1 & 0 & 1 \\\\\n",
        "0 & 0 & 1 & 0\n",
        "\\end{bmatrix}\n",
        "$$\n",
        "\n",
        "A second matrix of interest is the **degree matrix**. This is a diagonal matrix where the $i$-th element of the diagonal indicates the number of edges connected to node $i$. Note that these can be obtained from $A$ by summing across the columns, or the rows. For our example, the degree matrix is\n",
        "\n",
        "$$\n",
        "D = \\begin{bmatrix}\n",
        "1 & 0 & 0 & 0 \\\\ \n",
        "0 & 1 & 0 & 0 \\\\\n",
        "0 & 0 & 3 & 0 \\\\\n",
        "0 & 0 & 0 & 1\n",
        "\\end{bmatrix}\n",
        "$$\n",
        "\n",
        "For specific applications, each node in the graph will have an associated vector of features $x\\in\\mathbb{R}^c$. If our graph is a social network, then the vector of features can contain information like age, location, and musical tastes, in a specific numeric format. In the case of a molecule, the node could represent an atom and have features like the atomic mass, etc. We can lay out the features in a matrix $X\\in\\mathbb{R}^{n\\times c}$, so that the feature vector for node $i$ is in the $i$-th row."
      ]
    },
    {
      "cell_type": "markdown",
      "metadata": {
        "id": "zCEQ2ffzHCf2"
      },
      "source": [
        "### Loading a citation network\n",
        "\n",
        "To move to a real world example, we will start with the Cora dataset. This dataset represents a citation network, where nodes are scientific publications, edges denote citations between them, and features are a [bag-of-words](https://en.wikipedia.org/wiki/Bag-of-words_model) extracted from their contents.\n",
        "\n",
        "This graph contains labels for nodes, that represent a specific topic. We will use these for a node classification task.\n",
        "\n",
        "To easily load it, we will use [PyTorch Geometric](https://pytorch-geometric.readthedocs.io/en/latest/index.html) (PyG), a deep learning library for graph-structured data."
      ]
    },
    {
      "cell_type": "code",
      "execution_count": 2,
      "metadata": {
        "id": "Yd2bTEBADt-a"
      },
      "outputs": [],
      "source": [
        "# Install PyTorch Geometric\n",
        "import torch\n",
        "try:\n",
        "    import torch_geometric\n",
        "except ModuleNotFoundError:\n",
        "    # Installing torch geometric packages with specific CUDA+PyTorch version.\n",
        "    # See https://pytorch-geometric.readthedocs.io/en/latest/notes/installation.html for details\n",
        "    TORCH = torch.__version__.split('+')[0]\n",
        "    CUDA = 'cu' + torch.version.cuda.replace('.','')\n",
        "\n",
        "    %pip install torch-scatter     -f https://pytorch-geometric.com/whl/torch-{TORCH}+{CUDA}.html\n",
        "    %pip install torch-sparse      -f https://pytorch-geometric.com/whl/torch-{TORCH}+{CUDA}.html\n",
        "    %pip install torch-geometric\n",
        "    import torch_geometric"
      ]
    },
    {
      "cell_type": "markdown",
      "metadata": {
        "id": "V0Nvh_-qEo1q"
      },
      "source": [
        "We can now use the library to download and import the dataset. Initializing the `Planetoid` class returns a `Dataset` object that can contain multiple graphs. In this task we will only use the `Cora` dataset (the citation network) and hence, we will select only the first element."
      ]
    },
    {
      "cell_type": "code",
      "execution_count": 3,
      "metadata": {
        "id": "vuOvwhsHD2YK"
      },
      "outputs": [],
      "source": [
        "from torch_geometric.datasets import Planetoid\n",
        "dataset = Planetoid(root='data/Planetoid', name='Cora')\n",
        "data = dataset[0]"
      ]
    },
    {
      "cell_type": "markdown",
      "metadata": {
        "id": "v4WZkoiHFyZm"
      },
      "source": [
        "\n",
        "#### Question 1 (0.25 pt)\n",
        "\n",
        "The `data` object is an instance of the `Data` class in PyG. Check the [documentation](https://pytorch-geometric.readthedocs.io/en/latest/modules/data.html) and report the following properties of the graph:\n",
        "\n",
        "- Number of nodes\n",
        "- Number of edges \n",
        "- The dimension $c$ of the feature vectors $x\\in\\mathbb{R}^c$\n",
        "- The number of targets for the classification task"
      ]
    },
    {
      "cell_type": "code",
      "execution_count": 4,
      "metadata": {
        "id": "sjVuGJhlJC_7"
      },
      "outputs": [
        {
          "name": "stdout",
          "output_type": "stream",
          "text": [
            "\n",
            "Number of nodes: 2708\n",
            "Number of features: 1433\n",
            "Number of edges: 10556\n",
            "Number of targets: 7\n",
            "\n"
          ]
        }
      ],
      "source": [
        "nnodes = data.num_nodes\n",
        "in_features = data.num_node_features\n",
        "# Also possible\n",
        "assert (nnodes, in_features) == data.x.size()\n",
        "\n",
        "nedges = data.num_edges\n",
        "\n",
        "ntargets = len(set(map(int, data.y)))\n",
        "# Also possible\n",
        "assert ntargets == dataset.num_classes\n",
        "\n",
        "print(f\"\"\"\n",
        "Number of nodes: {nnodes}\n",
        "Number of features: {in_features}\n",
        "Number of edges: {nedges}\n",
        "Number of targets: {ntargets}\n",
        "\"\"\")"
      ]
    },
    {
      "cell_type": "markdown",
      "metadata": {
        "id": "G4DrGDAuJ2YO"
      },
      "source": [
        "#### Question 2 (0.25 pt)\n",
        "\n",
        "In PyG, edges are provided in a tensor of shape (2, number of edges). You can access it via `data.edge_index`. Each column in this tensor contains the IDs for two nodes that are connected in the graph.\n",
        "\n",
        "We saw that in an undirected graph, an edge between nodes $i$ and $j$ adds a value of 1 to positions $(i, j)$ and $(j, i)$ of the adjacency matrix. Is this also true for the edge index? That is, if there is an edge $(i, j)$ in `data.edge_index`, is there also an edge for $(j, i)$? This is important to know for the next steps of the implementation."
      ]
    },
    {
      "cell_type": "code",
      "execution_count": 5,
      "metadata": {
        "id": "jTRfNxibarRZ"
      },
      "outputs": [
        {
          "name": "stdout",
          "output_type": "stream",
          "text": [
            "The answer is: YES\n"
          ]
        }
      ],
      "source": [
        "indices = data.edge_index.t()\n",
        "is_true = all([torch.tensor([j, i]) in indices for i, j in indices])\n",
        "print(f\"The answer is: {'YES' if is_true else 'NO'}\")"
      ]
    },
    {
      "cell_type": "markdown",
      "metadata": {
        "id": "YOpS3QTYiOqp"
      },
      "source": [
        "#### Question 3 (0.5 pt)\n",
        "\n",
        "In graphs, especially large ones, the adjacency matrix is **sparse**: most entries are zero. Sparse matrices allow for efficient storage and computation.\n",
        "\n",
        "To prepare and pre-process sparse matrices, we will use [`scipy.sparse`](https://docs.scipy.org/doc/scipy/reference/sparse.html). Once the matrices are ready, we will convert them to PyTorch tensors.\n",
        "\n",
        "We will use the [Sparse COO format](https://en.wikipedia.org/wiki/Sparse_matrix#Coordinate_list_(COO)). We encourage you to first get familiar with how it works after continuing with the assignment.\n",
        "\n",
        "- Use the [`scipy.sparse.coo_matrix()`](https://docs.scipy.org/doc/scipy/reference/generated/scipy.sparse.coo_matrix.html) function to build the adjacency matrix. Think of what arguments are needed, and how you can obtain them from the graph data loaded above.\n",
        "- Use the `sum()` method of sparse matrices, together with `scipy.sparse.diags()`, to compute the degree matrix using the definition above.\n",
        "\n",
        "Both resulting matrices must be sparse of type `float32`."
      ]
    },
    {
      "cell_type": "code",
      "execution_count": 6,
      "metadata": {
        "id": "QC01OjbJs92-"
      },
      "outputs": [],
      "source": [
        "import scipy\n",
        "import scipy.sparse\n",
        "\n",
        "row = data.edge_index[0, :]\n",
        "col = data.edge_index[1, :]\n",
        "assert len(row) == len(col) == nedges\n",
        "\n",
        "# We just put ones for neighbours\n",
        "values = torch.ones(nedges)\n",
        "\n",
        "shape = (nnodes, nnodes)\n",
        "\n",
        "adj_mat = scipy.sparse.coo_matrix((values, (row, col)), shape=shape)"
      ]
    },
    {
      "cell_type": "markdown",
      "metadata": {
        "id": "AIEJyQi2TzyY"
      },
      "source": [
        "You might wonder why we suggest to use a scipy sparse matrix, while also PyTorch supports them. The reason is that in the next step, we will be multiplying two sparse matrices, an operation not supported in PyTorch. PyTorch only allows multiplying a sparse matrix with a dense one, something which we will be doing at a later stage.\n",
        "\n"
      ]
    },
    {
      "cell_type": "markdown",
      "metadata": {
        "id": "YlmzSb0up4LB"
      },
      "source": [
        "### The Graph Convolutional Network\n",
        "\n",
        "The goal of the graph convolution is to take the feature vectors of all nodes $X\\in\\mathbb{R}^{n\\times c}$, and propagate them along the existing edges, to obtain updated representations $Z\\in\\mathbb{R}^{n\\times d}$.\n",
        "\n",
        "\n",
        "The GCN is initially motivated as performing a convolution, similarly as it is done in CNNs for images, for graph-structured data. In Kipf and Welling (2017), a theoretical derivation leads to the following formula:\n",
        "\n",
        "$$\n",
        "Z = \\tilde{D}^{-\\frac{1}{2}}\\tilde{A}\\tilde{D}^{-\\frac{1}{2}}XW\n",
        "$$\n",
        "\n",
        "where\n",
        "\n",
        "- $W\\in\\mathbb{R}^{c\\times d}$ is a matrix of parameters to be learned via gradient descent\n",
        "- $\\tilde{A} = A + I_n$, where $I_n$ is an $n\\times n$ identity matrix\n",
        "- $\\tilde{D}$ is the degree matrix computed with $\\tilde{A}$ as the adjacency matrix\n",
        "\n",
        "If we define $\\hat{A} = \\tilde{D}^{-\\frac{1}{2}}\\tilde{A}\\tilde{D}^{-\\frac{1}{2}}$, the graph convolution can be written as $Z = \\hat{A}XW$."
      ]
    },
    {
      "cell_type": "markdown",
      "metadata": {
        "id": "LL4b-MTvysBp"
      },
      "source": [
        "#### Question 4 (0.25 pt)\n",
        "\n",
        "Given the formula for the GCN, explain why it operates by propagating feature vectors across the graph. To answer this, it might be useful to recall the definitions of the adjacency and degree matrices, and how they are involved in the formula."
      ]
    },
    {
      "cell_type": "markdown",
      "metadata": {
        "id": "Vgx2SkTTyiSN"
      },
      "source": [
        "The multiplication of the **adjacency matrix** (or some function of it) with the matrix $X$ has the effect of summing up feature vectors for all neighbouring nodes. This is effectively propagating feature vectors across the graph. The **degree matrix** provides a normalization constant for each feature vector, just to keep the scale of the features.\n",
        "\n",
        "To give a more precise intuiton, it is helpful to write the formula above in vector form ([source](https://tkipf.github.io/graph-convolutional-networks/)):\n",
        "$$\n",
        "    z_{i} = \\sum_{j \\in \\mathcal{N}_i} \\frac{1}{c_{ij}}x_{j}W\n",
        "$$\n",
        "where we identify $x_j$ as the feature vectors (rows of $X$), $\\mathcal{N}_i$ is the set of neighbours of node $i$ and $c_{ij}$ is the normalization constant. The neighbours of the node $i$ are encoded as ones in the $i$-th row of the adjacency matrix $A$. $\\tilde{A}$ encodes the same information as $A$ plus adding self-loops. $\\tilde{D}$ is the degree matrix (taking into account self-loops), constructed as:\n",
        "$$\n",
        "    \\tilde{D}_{ii} = \\sum_j \\tilde{A}_{ij}\n",
        "$$\n",
        "which effectively normalizes the summed-up feature vectors according to the number of neighbors of each node. "
      ]
    },
    {
      "cell_type": "markdown",
      "metadata": {
        "id": "QUGABEqxylsd"
      },
      "source": [
        "#### Question 5 (0.5 pt)\n",
        "\n",
        "Compute the **normalized adjacency matrix** $\\hat{A}$. The result should be a sparse matrix."
      ]
    },
    {
      "cell_type": "code",
      "execution_count": 7,
      "metadata": {
        "id": "GPZbnSaSyDzO"
      },
      "outputs": [],
      "source": [
        "# Add self-loops. This will turn A into \\tilde{A}\n",
        "adj_mat.setdiag(1)\n",
        "\n",
        "# Sum along columns to get the diagonal\n",
        "diag = adj_mat.sum(axis=1).A1\n",
        "\n",
        "# Compute degree matrix\n",
        "d = scipy.sparse.diags_array(diag, shape=(nnodes, nnodes))\n",
        "\n",
        "# Compute \\hat{A}\n",
        "adj_mat_norm = ((d ** (1/2)) @ adj_mat @ (d ** (1/2))).tocoo()"
      ]
    },
    {
      "cell_type": "markdown",
      "metadata": {
        "id": "LLLdGdZoMEy-"
      },
      "source": [
        "#### Question 6 (0.5 pt)\n",
        "\n",
        "So far we have used scipy to build and compute sparse matrices. Since we want to train a GCN with PyTorch, we need to convert $\\hat{A}$ into a sparse PyTorch tensor. You can do this with the [`torch.sparse_coo_tensor()`](https://pytorch.org/docs/stable/generated/torch.sparse_coo_tensor.html) function, making sure to specify `torch.float` as the type."
      ]
    },
    {
      "cell_type": "code",
      "execution_count": 8,
      "metadata": {
        "id": "dgDsVHzEM32F"
      },
      "outputs": [],
      "source": [
        "import numpy as np\n",
        "\n",
        "assert adj_mat_norm.shape == (nnodes, nnodes)\n",
        "\n",
        "coords = np.array(adj_mat_norm.coords)\n",
        "values = adj_mat_norm.data\n",
        "\n",
        "adj_mat_norm_torch = torch.sparse_coo_tensor(indices=coords, values=values, size=(nnodes, nnodes), dtype=torch.float)"
      ]
    },
    {
      "cell_type": "markdown",
      "metadata": {
        "id": "eAlRVT5aODkX"
      },
      "source": [
        "#### Question 7 (0.5 pt)\n",
        "\n",
        "We now have all the ingredients to build a GCN layer. Implement a class (inheriting from `torch.nn.Module`) with a learnable matrix of weights $W\\in\\mathbb{R}^{c\\times d}$. Make sure to\n",
        "\n",
        "- Call this class `GCNLayer`\n",
        "- The `__init__()` constructor should take as argument the number of input and output features.\n",
        "- Use `torch.nn.init.kaiming_uniform_` to initialize $W$.\n",
        "- Define the `forward` method, which takes as input $X$ and $\\hat{A}$ and returns $Z$. Note that multiplications involving the sparse matrix $\\hat{A}$ have to be done with `torch.spmm`. \n",
        "\n",
        "Once you have implemented the class, instantiate a layer with the correct number of input features for the Cora dataset, and a number of output features of your choice. Do a forward pass and report the shape of the output tensor."
      ]
    },
    {
      "cell_type": "code",
      "execution_count": 9,
      "metadata": {
        "id": "JFCohhhwPpTT"
      },
      "outputs": [
        {
          "name": "stdout",
          "output_type": "stream",
          "text": [
            "The shape of the output is: torch.Size([2708, 200])\n"
          ]
        }
      ],
      "source": [
        "import torch.nn.functional as F\n",
        "from torch.nn.parameter import Parameter\n",
        "\n",
        "class GCNLayer(torch.nn.Module):\n",
        "    def __init__(self, in_features, out_features):\n",
        "        super().__init__()\n",
        "        self.weights = Parameter(torch.empty(in_features, out_features))\n",
        "        self.bias = Parameter(torch.zeros(out_features))\n",
        "        torch.nn.init.kaiming_uniform_(self.weights.T, nonlinearity=\"relu\")\n",
        "    \n",
        "    def forward(self, input_m, adjacency_m):\n",
        "        assert adjacency_m.size(1) == input_m.size(0)\n",
        "        return torch.spmm(adjacency_m, F.linear(input_m, self.weights.T)) + self.bias\n",
        "\n",
        "out_features = 200\n",
        "gcn_layer = GCNLayer(in_features=in_features, out_features=out_features)\n",
        "\n",
        "# Forward pass\n",
        "output = gcn_layer(data.x, adj_mat_norm_torch)\n",
        "print(f\"The shape of the output is: {output.size()}\")"
      ]
    },
    {
      "cell_type": "markdown",
      "metadata": {
        "id": "1ptAiizZUKaM"
      },
      "source": [
        "#### Question 8 (0.5 pt)\n",
        "\n",
        "As we have seen so far, the GCN layer implements a special type of linear transformation of the inputs. However, it is often beneficial in deep learning to stack multiple, non-linear transformations of the input features. Implement a second module class for a model with two GCN layers (use the module you implemented in the previous question).\n",
        "\n",
        "- Call this class `GCN`\n",
        "- The constructor must now take as input the number of input features, the output dimension of the first layer (this is the hidden layer), and the output dimension of the output layer.\n",
        "- In the forward pass, add a ReLU activation function after the first layer."
      ]
    },
    {
      "cell_type": "code",
      "execution_count": 10,
      "metadata": {
        "id": "2zhyu3S9Vj3b"
      },
      "outputs": [],
      "source": [
        "class GCN(torch.nn.Module):\n",
        "    def __init__(self, in_features, n_hidden, n_output):\n",
        "        super().__init__()\n",
        "        self.gcn_layer_1 = GCNLayer(in_features=in_features, out_features=n_hidden)\n",
        "        self.gcn_layer_2 = GCNLayer(in_features=n_hidden, out_features=n_output)\n",
        "\n",
        "    def forward(self, x, adjacency):\n",
        "        x = self.gcn_layer_1(x, adjacency)\n",
        "        x = F.relu(x)\n",
        "        x = self.gcn_layer_2(x, adjacency)\n",
        "        x = F.log_softmax(x, 1)\n",
        "        return x\n"
      ]
    },
    {
      "cell_type": "markdown",
      "metadata": {
        "id": "6NVB-3I5Wfkf"
      },
      "source": [
        "### GCNs for semi-supervised node classification\n",
        "\n",
        "Now that we have a GCN with two layers, we can test its performance in a node classification task. We will pass the input node features $X$ through the GCN layers, and the output will be of size $n\\times k$ where $k$ is the number of classes (which you found in question 1). The label denotes the topic an article in the citation network belongs to (e.g. physics, computer science, etc.)."
      ]
    },
    {
      "cell_type": "markdown",
      "metadata": {
        "id": "trc4dSa7cuQj"
      },
      "source": [
        "#### Question 9 (1.5 pt)\n",
        "\n",
        "Note that the `data` object contains all labels (for all splits) in `data.y`, and binary masks for the train, validation, and test splits in `data.train_mask`, `data.val_mask`, and `data.test_mask`, respectively. These masks are the same size as `data.y`, and indicate which labels belong to which split.\n",
        "\n",
        "- Create a GCN with two layers (using the class from the previous question), with 32 as the hidden dimension, and the number of output features equal to the number of classes in the Cora dataset.\n",
        "\n",
        "- Use the Adam optimizer with a learning rate of 0.01.\n",
        "\n",
        "- Implement a training loop for the GCN. At each step, pass $X$ and $\\hat{A}$ to the GCN to obtain the logits. Compute the mean cross-entropy loss **only for the training instances**, using the binary masks.\n",
        "\n",
        "- After each training step, evaluate the accuracy for the validation instances.\n",
        "\n",
        "- Train for 100 epochs. Once training is finished, plot the training loss and validation accuracy (in a graph in function of the epoch number), and report the accuracy in the test set.\n",
        "\n",
        "You should obtain an accuracy over 75% on both the validation and test sets. You can also compare your results with the original paper, which also contains results for the Cora dataset. Give a brief discussion on the results of your experiments.\n",
        "\n",
        "Note that in contrast with other tasks, like image classification on some datasets, we don't use mini-batches here. The whole matrix of features and the adjacency is passed to the GCN in one step."
      ]
    },
    {
      "cell_type": "code",
      "execution_count": 11,
      "metadata": {
        "id": "5Z2OP_ZRWlmo"
      },
      "outputs": [
        {
          "name": "stdout",
          "output_type": "stream",
          "text": [
            "Epoch 1\n",
            "-------------------------------\n",
            "Training loss: 2347.071533 \n",
            " Validation accuracy: 0.2360\n",
            "Epoch 2\n",
            "-------------------------------\n",
            "Training loss: 757.782715 \n",
            " Validation accuracy: 0.4100\n",
            "Epoch 3\n",
            "-------------------------------\n",
            "Training loss: 1211.533203 \n",
            " Validation accuracy: 0.2100\n",
            "Epoch 4\n",
            "-------------------------------\n",
            "Training loss: 1845.184570 \n",
            " Validation accuracy: 0.2740\n",
            "Epoch 5\n",
            "-------------------------------\n",
            "Training loss: 2990.649658 \n",
            " Validation accuracy: 0.3340\n",
            "Epoch 6\n",
            "-------------------------------\n",
            "Training loss: 2049.861572 \n",
            " Validation accuracy: 0.4560\n",
            "Epoch 7\n",
            "-------------------------------\n",
            "Training loss: 637.974915 \n",
            " Validation accuracy: 0.5720\n",
            "Epoch 8\n",
            "-------------------------------\n",
            "Training loss: 502.359100 \n",
            " Validation accuracy: 0.5320\n",
            "Epoch 9\n",
            "-------------------------------\n",
            "Training loss: 498.872375 \n",
            " Validation accuracy: 0.5080\n",
            "Epoch 10\n",
            "-------------------------------\n",
            "Training loss: 528.808472 \n",
            " Validation accuracy: 0.4940\n",
            "Epoch 11\n",
            "-------------------------------\n",
            "Training loss: 538.044861 \n",
            " Validation accuracy: 0.4960\n",
            "Epoch 12\n",
            "-------------------------------\n",
            "Training loss: 511.632660 \n",
            " Validation accuracy: 0.4960\n",
            "Epoch 13\n",
            "-------------------------------\n",
            "Training loss: 471.156921 \n",
            " Validation accuracy: 0.5340\n",
            "Epoch 14\n",
            "-------------------------------\n",
            "Training loss: 416.414520 \n",
            " Validation accuracy: 0.5500\n",
            "Epoch 15\n",
            "-------------------------------\n",
            "Training loss: 374.457764 \n",
            " Validation accuracy: 0.5660\n",
            "Epoch 16\n",
            "-------------------------------\n",
            "Training loss: 338.413391 \n",
            " Validation accuracy: 0.6020\n",
            "Epoch 17\n",
            "-------------------------------\n",
            "Training loss: 296.343048 \n",
            " Validation accuracy: 0.6260\n",
            "Epoch 18\n",
            "-------------------------------\n",
            "Training loss: 247.608841 \n",
            " Validation accuracy: 0.6340\n",
            "Epoch 19\n",
            "-------------------------------\n",
            "Training loss: 191.388535 \n",
            " Validation accuracy: 0.6440\n",
            "Epoch 20\n",
            "-------------------------------\n",
            "Training loss: 121.091293 \n",
            " Validation accuracy: 0.6200\n",
            "Epoch 21\n",
            "-------------------------------\n",
            "Training loss: 49.177074 \n",
            " Validation accuracy: 0.5240\n",
            "Epoch 22\n",
            "-------------------------------\n",
            "Training loss: 301.240906 \n",
            " Validation accuracy: 0.5420\n",
            "Epoch 23\n",
            "-------------------------------\n",
            "Training loss: 112.062698 \n",
            " Validation accuracy: 0.6460\n",
            "Epoch 24\n",
            "-------------------------------\n",
            "Training loss: 70.307777 \n",
            " Validation accuracy: 0.6380\n",
            "Epoch 25\n",
            "-------------------------------\n",
            "Training loss: 155.382874 \n",
            " Validation accuracy: 0.6160\n",
            "Epoch 26\n",
            "-------------------------------\n",
            "Training loss: 180.712524 \n",
            " Validation accuracy: 0.6060\n",
            "Epoch 27\n",
            "-------------------------------\n",
            "Training loss: 194.398407 \n",
            " Validation accuracy: 0.6060\n",
            "Epoch 28\n",
            "-------------------------------\n",
            "Training loss: 216.699600 \n",
            " Validation accuracy: 0.6000\n",
            "Epoch 29\n",
            "-------------------------------\n",
            "Training loss: 229.023849 \n",
            " Validation accuracy: 0.6100\n",
            "Epoch 30\n",
            "-------------------------------\n",
            "Training loss: 228.921341 \n",
            " Validation accuracy: 0.6180\n",
            "Epoch 31\n",
            "-------------------------------\n",
            "Training loss: 222.627762 \n",
            " Validation accuracy: 0.6180\n",
            "Epoch 32\n",
            "-------------------------------\n",
            "Training loss: 208.540909 \n",
            " Validation accuracy: 0.6200\n",
            "Epoch 33\n",
            "-------------------------------\n",
            "Training loss: 188.834778 \n",
            " Validation accuracy: 0.6240\n",
            "Epoch 34\n",
            "-------------------------------\n",
            "Training loss: 160.382065 \n",
            " Validation accuracy: 0.6180\n",
            "Epoch 35\n",
            "-------------------------------\n",
            "Training loss: 132.748032 \n",
            " Validation accuracy: 0.6200\n",
            "Epoch 36\n",
            "-------------------------------\n",
            "Training loss: 101.903763 \n",
            " Validation accuracy: 0.6140\n",
            "Epoch 37\n",
            "-------------------------------\n",
            "Training loss: 68.688713 \n",
            " Validation accuracy: 0.5980\n",
            "Epoch 38\n",
            "-------------------------------\n",
            "Training loss: 32.440571 \n",
            " Validation accuracy: 0.5340\n",
            "Epoch 39\n",
            "-------------------------------\n",
            "Training loss: 99.489906 \n",
            " Validation accuracy: 0.6020\n",
            "Epoch 40\n",
            "-------------------------------\n",
            "Training loss: 15.541348 \n",
            " Validation accuracy: 0.6040\n",
            "Epoch 41\n",
            "-------------------------------\n",
            "Training loss: 31.541142 \n",
            " Validation accuracy: 0.6060\n",
            "Epoch 42\n",
            "-------------------------------\n",
            "Training loss: 37.296284 \n",
            " Validation accuracy: 0.6060\n",
            "Epoch 43\n",
            "-------------------------------\n",
            "Training loss: 34.273560 \n",
            " Validation accuracy: 0.6040\n",
            "Epoch 44\n",
            "-------------------------------\n",
            "Training loss: 24.945595 \n",
            " Validation accuracy: 0.6000\n",
            "Epoch 45\n",
            "-------------------------------\n",
            "Training loss: 9.149509 \n",
            " Validation accuracy: 0.5580\n",
            "Epoch 46\n",
            "-------------------------------\n",
            "Training loss: 19.761650 \n",
            " Validation accuracy: 0.6060\n",
            "Epoch 47\n",
            "-------------------------------\n",
            "Training loss: 5.188412 \n",
            " Validation accuracy: 0.6080\n",
            "Epoch 48\n",
            "-------------------------------\n",
            "Training loss: 17.103701 \n",
            " Validation accuracy: 0.6160\n",
            "Epoch 49\n",
            "-------------------------------\n",
            "Training loss: 24.345131 \n",
            " Validation accuracy: 0.6160\n",
            "Epoch 50\n",
            "-------------------------------\n",
            "Training loss: 25.299589 \n",
            " Validation accuracy: 0.6100\n",
            "Epoch 51\n",
            "-------------------------------\n",
            "Training loss: 19.891329 \n",
            " Validation accuracy: 0.6120\n",
            "Epoch 52\n",
            "-------------------------------\n",
            "Training loss: 9.308314 \n",
            " Validation accuracy: 0.6020\n",
            "Epoch 53\n",
            "-------------------------------\n",
            "Training loss: 3.027930 \n",
            " Validation accuracy: 0.5560\n",
            "Epoch 54\n",
            "-------------------------------\n",
            "Training loss: 9.630557 \n",
            " Validation accuracy: 0.5960\n",
            "Epoch 55\n",
            "-------------------------------\n",
            "Training loss: 2.770221 \n",
            " Validation accuracy: 0.6020\n",
            "Epoch 56\n",
            "-------------------------------\n",
            "Training loss: 2.694800 \n",
            " Validation accuracy: 0.6020\n",
            "Epoch 57\n",
            "-------------------------------\n",
            "Training loss: 3.327509 \n",
            " Validation accuracy: 0.6020\n",
            "Epoch 58\n",
            "-------------------------------\n",
            "Training loss: 3.895712 \n",
            " Validation accuracy: 0.6020\n",
            "Epoch 59\n",
            "-------------------------------\n",
            "Training loss: 2.535850 \n",
            " Validation accuracy: 0.6000\n",
            "Epoch 60\n",
            "-------------------------------\n",
            "Training loss: 2.427529 \n",
            " Validation accuracy: 0.6020\n",
            "Epoch 61\n",
            "-------------------------------\n",
            "Training loss: 2.485874 \n",
            " Validation accuracy: 0.6020\n",
            "Epoch 62\n",
            "-------------------------------\n",
            "Training loss: 2.623496 \n",
            " Validation accuracy: 0.6000\n",
            "Epoch 63\n",
            "-------------------------------\n",
            "Training loss: 2.279251 \n",
            " Validation accuracy: 0.5720\n",
            "Epoch 64\n",
            "-------------------------------\n",
            "Training loss: 6.154226 \n",
            " Validation accuracy: 0.6060\n",
            "Epoch 65\n",
            "-------------------------------\n",
            "Training loss: 2.153135 \n",
            " Validation accuracy: 0.6100\n",
            "Epoch 66\n",
            "-------------------------------\n",
            "Training loss: 10.960175 \n",
            " Validation accuracy: 0.6120\n",
            "Epoch 67\n",
            "-------------------------------\n",
            "Training loss: 19.565062 \n",
            " Validation accuracy: 0.6140\n",
            "Epoch 68\n",
            "-------------------------------\n",
            "Training loss: 20.255728 \n",
            " Validation accuracy: 0.6120\n",
            "Epoch 69\n",
            "-------------------------------\n",
            "Training loss: 13.827901 \n",
            " Validation accuracy: 0.6080\n",
            "Epoch 70\n",
            "-------------------------------\n",
            "Training loss: 1.861044 \n",
            " Validation accuracy: 0.6120\n",
            "Epoch 71\n",
            "-------------------------------\n",
            "Training loss: 1.806770 \n",
            " Validation accuracy: 0.6120\n",
            "Epoch 72\n",
            "-------------------------------\n",
            "Training loss: 1.755514 \n",
            " Validation accuracy: 0.6060\n",
            "Epoch 73\n",
            "-------------------------------\n",
            "Training loss: 2.158199 \n",
            " Validation accuracy: 0.5640\n",
            "Epoch 74\n",
            "-------------------------------\n",
            "Training loss: 17.502420 \n",
            " Validation accuracy: 0.6200\n",
            "Epoch 75\n",
            "-------------------------------\n",
            "Training loss: 1.569611 \n",
            " Validation accuracy: 0.6240\n",
            "Epoch 76\n",
            "-------------------------------\n",
            "Training loss: 3.680463 \n",
            " Validation accuracy: 0.6340\n",
            "Epoch 77\n",
            "-------------------------------\n",
            "Training loss: 14.427177 \n",
            " Validation accuracy: 0.6340\n",
            "Epoch 78\n",
            "-------------------------------\n",
            "Training loss: 17.410910 \n",
            " Validation accuracy: 0.6340\n",
            "Epoch 79\n",
            "-------------------------------\n",
            "Training loss: 13.354645 \n",
            " Validation accuracy: 0.6220\n",
            "Epoch 80\n",
            "-------------------------------\n",
            "Training loss: 2.969221 \n",
            " Validation accuracy: 0.6200\n",
            "Epoch 81\n",
            "-------------------------------\n",
            "Training loss: 1.529182 \n",
            " Validation accuracy: 0.6280\n",
            "Epoch 82\n",
            "-------------------------------\n",
            "Training loss: 1.419574 \n",
            " Validation accuracy: 0.6180\n",
            "Epoch 83\n",
            "-------------------------------\n",
            "Training loss: 1.294991 \n",
            " Validation accuracy: 0.5740\n",
            "Epoch 84\n",
            "-------------------------------\n",
            "Training loss: 12.194475 \n",
            " Validation accuracy: 0.6260\n",
            "Epoch 85\n",
            "-------------------------------\n",
            "Training loss: 1.190528 \n",
            " Validation accuracy: 0.6320\n",
            "Epoch 86\n",
            "-------------------------------\n",
            "Training loss: 1.126493 \n",
            " Validation accuracy: 0.6340\n",
            "Epoch 87\n",
            "-------------------------------\n",
            "Training loss: 1.072131 \n",
            " Validation accuracy: 0.6320\n",
            "Epoch 88\n",
            "-------------------------------\n",
            "Training loss: 1.021761 \n",
            " Validation accuracy: 0.6340\n",
            "Epoch 89\n",
            "-------------------------------\n",
            "Training loss: 0.981553 \n",
            " Validation accuracy: 0.6360\n",
            "Epoch 90\n",
            "-------------------------------\n",
            "Training loss: 0.944379 \n",
            " Validation accuracy: 0.6440\n",
            "Epoch 91\n",
            "-------------------------------\n",
            "Training loss: 0.906242 \n",
            " Validation accuracy: 0.6420\n",
            "Epoch 92\n",
            "-------------------------------\n",
            "Training loss: 1.343261 \n",
            " Validation accuracy: 0.6460\n",
            "Epoch 93\n",
            "-------------------------------\n",
            "Training loss: 1.153688 \n",
            " Validation accuracy: 0.6500\n",
            "Epoch 94\n",
            "-------------------------------\n",
            "Training loss: 0.795821 \n",
            " Validation accuracy: 0.6520\n",
            "Epoch 95\n",
            "-------------------------------\n",
            "Training loss: 2.180887 \n",
            " Validation accuracy: 0.6520\n",
            "Epoch 96\n",
            "-------------------------------\n",
            "Training loss: 0.718325 \n",
            " Validation accuracy: 0.6480\n",
            "Epoch 97\n",
            "-------------------------------\n",
            "Training loss: 0.676111 \n",
            " Validation accuracy: 0.6440\n",
            "Epoch 98\n",
            "-------------------------------\n",
            "Training loss: 0.637456 \n",
            " Validation accuracy: 0.6400\n",
            "Epoch 99\n",
            "-------------------------------\n",
            "Training loss: 0.602194 \n",
            " Validation accuracy: 0.6440\n",
            "Epoch 100\n",
            "-------------------------------\n",
            "Training loss: 0.568437 \n",
            " Validation accuracy: 0.6420\n",
            "Done!\n"
          ]
        }
      ],
      "source": [
        "# We are taking inspiration from the PyG tutorial: https://pytorch-geometric.readthedocs.io/en/latest/get_started/introduction.html\n",
        "\n",
        "device = torch.device('cuda' if torch.cuda.is_available() else 'cpu')\n",
        "\n",
        "gcn = GCN(in_features=in_features, n_hidden=32, n_output=ntargets).to(device)\n",
        "\n",
        "optimizer = torch.optim.Adam(gcn.parameters(), lr=0.01)  #, weight_decay=5e-4) (?)\n",
        "criterion = F.nll_loss  # I'm already computing the `log_softmax` in the forward\n",
        "\n",
        "# Store data\n",
        "epochs = 100\n",
        "loss_train = torch.zeros(epochs)\n",
        "loss_val = torch.zeros_like(loss_train)\n",
        "acc_train = torch.zeros_like(loss_train)\n",
        "acc_val = torch.zeros_like(loss_train)\n",
        "\n",
        "# Move data to gpu\n",
        "X, t = data.x.to(device), data.y.to(device)\n",
        "adj = adj_mat_norm_torch.to(device)\n",
        "\n",
        "size_train = int(data.train_mask.sum())\n",
        "size_val = int(data.val_mask.sum())\n",
        "\n",
        "for e in range(epochs):\n",
        "    gcn.train()\n",
        "    print(f\"Epoch {e+1}\\n-------------------------------\")\n",
        "    optimizer.zero_grad()\n",
        "\n",
        "    ### Training set\n",
        "    # Forward\n",
        "    out = gcn(X, adj)[data.train_mask]\n",
        "    target = t[data.train_mask]\n",
        "\n",
        "    # Backpropagate\n",
        "    loss = criterion(out, target)\n",
        "    loss.backward()\n",
        "    optimizer.step()\n",
        "\n",
        "    # Metrics\n",
        "    loss_train[e] = loss.item() # / size_train\n",
        "    ncorrect = (out.argmax(1) == target).type(torch.float).sum().item()\n",
        "    acc_train[e] = ncorrect / size_train\n",
        "\n",
        "    ### Validation set\n",
        "    gcn.eval()\n",
        "    with torch.no_grad():\n",
        "        # Forward\n",
        "        out_val = gcn(X, adj)[data.val_mask]\n",
        "        target_val = t[data.val_mask]\n",
        "\n",
        "        # Metrics\n",
        "        loss_val[e] = criterion(out_val, target_val).item()#  / size_val\n",
        "        ncorrect = (out_val.argmax(1) == target_val).type(torch.float).sum().item()\n",
        "        acc_val[e] = ncorrect / size_val\n",
        "\n",
        "    print(f\"Training loss: {loss_train[e]:>5f} \\n Validation accuracy: {acc_val[e]:.4f}\")\n",
        "\n",
        "print(\"Done!\")\n"
      ]
    },
    {
      "cell_type": "code",
      "execution_count": 12,
      "metadata": {},
      "outputs": [
        {
          "name": "stdout",
          "output_type": "stream",
          "text": [
            "Test Accuracy: 0.6900\n"
          ]
        }
      ],
      "source": [
        "### Training set\n",
        "with torch.no_grad():\n",
        "    test_out = gcn(X, adj)[data.test_mask]\n",
        "    test_target = t[data.test_mask]\n",
        "    test_accuracy = (test_out.argmax(1) == test_target).type(torch.float).mean().item()\n",
        "print(f\"Test Accuracy: {test_accuracy:.4f}\")"
      ]
    },
    {
      "cell_type": "code",
      "execution_count": 13,
      "metadata": {},
      "outputs": [
        {
          "data": {
            "image/png": "[encoded data removed]",
            "text/plain": [
              "<Figure size 1400x600 with 2 Axes>"
            ]
          },
          "metadata": {},
          "output_type": "display_data"
        }
      ],
      "source": [
        "import matplotlib.pyplot as plt\n",
        "\n",
        "fig, ax = plt.subplots(1, 2, figsize=(14, 6))\n",
        "ax[0].plot(range(epochs), loss_train, label=\"Training loss\")\n",
        "ax[0].plot(range(epochs), loss_val, label=\"Validation loss\")\n",
        "ax[0].legend()\n",
        "\n",
        "ax[1].plot(range(epochs), acc_train, label=\"Acc. train\")\n",
        "ax[1].plot(range(epochs), acc_val, label=\"Acc. val\")\n",
        "ax[1].legend()\n",
        "\n",
        "plt.show()"
      ]
    },
    {
      "cell_type": "markdown",
      "metadata": {
        "id": "vb5YjHVClCqo"
      },
      "source": [
        "#### Question 10 (0.5 pt)\n",
        "\n",
        "The paper introduces GCNs as a way to solve a *semi-supervised* classification problem.\n",
        "\n",
        "- What makes this problem semi-supervised?\n",
        "- What is the proportion of labeled data used for training with respect to labeled data in the validation and test sets? What is difference in this context with other benchmark tasks in machine learning, like image classification with MNIST?\n",
        "- Why do you think the GCN performs well in this semi-supervised scenario?"
      ]
    },
    {
      "cell_type": "code",
      "execution_count": null,
      "metadata": {
        "id": "7qw58r1MmCUJ"
      },
      "outputs": [],
      "source": [
        "# Your answer here\n"
      ]
    },
    {
      "cell_type": "markdown",
      "metadata": {
        "id": "4ihrjZddvz5d"
      },
      "source": [
        "### Loading a dataset of proteins\n",
        "\n",
        "In the previous sections you learned how to pass the adjacency matrix of a graph with a couple of thousand of nodes, to classify each node with a particular label. A different and useful application of GCNs is graph classification.\n",
        "\n",
        "In contrast with the previous part, where there was a single, big graph, in graph classification we have multiple graphs, and each graph can be assigned a label. In this part of the assignment you will implement a classifier for proteins.\n",
        "\n",
        "[Proteins](https://en.wikipedia.org/wiki/Protein_(nutrient)) are parts of the buildings block of life. They consist of chains of amino acids, and can take many shapes. In the PROTEINS dataset, proteins are represented as graphs, where the nodes are amino acids, and an edge between them indicates that they are 6 [Angstroms](https://en.wikipedia.org/wiki/Angstrom) apart. All graphs have a binary label, where 1 means that the protein is not an enzyme.\n",
        "\n",
        "We will start by loading and examining this dataset."
      ]
    },
    {
      "cell_type": "code",
      "execution_count": null,
      "metadata": {
        "colab": {
          "base_uri": "https://localhost:8080/"
        },
        "id": "xmqweMcvnUH6",
        "outputId": "f10d56ce-4b1b-4925-bc61-58c49b22adb1"
      },
      "outputs": [
        {
          "name": "stdout",
          "output_type": "stream",
          "text": [
            "Downloading https://www.chrsmrrs.com/graphkerneldatasets/PROTEINS.zip\n",
            "Extracting data/TU/PROTEINS/PROTEINS.zip\n",
            "Processing...\n",
            "Done!\n"
          ]
        }
      ],
      "source": [
        "from torch_geometric.datasets import TUDataset\n",
        "dataset = TUDataset(root='data/TU', name='PROTEINS', use_node_attr=True)"
      ]
    },
    {
      "cell_type": "markdown",
      "metadata": {
        "id": "_oF1gyKPXiz-"
      },
      "source": [
        "#### Question 11 (0.25 pt)\n",
        "\n",
        "Unlike in the previous part, where we selected the first element returned by the loading function, note that here we get all the elements returned by `TUDataset()`. `dataset` is an interable object, that has some similar behaviors as a Python list: you can call `len()` on it, and you can takes slices from it.\n",
        "\n",
        "Each element in `dataset` is a `Data` object containing a graph that represents a protein. This is the same type of object that we used in the previous part to store the Cora citation network.\n",
        "\n",
        "Knowing this, answer the following:\n",
        "\n",
        "- How many proteins (graphs) are there in `dataset`?\n",
        "- Take any protein from `dataset`. How many nodes and edges does it contain? What is its label? How many features does each node have?"
      ]
    },
    {
      "cell_type": "code",
      "execution_count": null,
      "metadata": {
        "id": "ZNPsnXXbbHHe"
      },
      "outputs": [],
      "source": [
        "# Your answer here\n"
      ]
    },
    {
      "cell_type": "markdown",
      "metadata": {
        "id": "kHSklBZXpKpR"
      },
      "source": [
        "#### Question 12 (0.5 pt)\n",
        "\n",
        "To properly train and evaluate our model, we need training, validation, and test splits.\n",
        "\n",
        "For reproducibility purposes, we generate a random tensor of indices for you. Use it to extract the three splits from `dataset`.\n",
        "\n",
        "For training, take 80% of the indices (starting from the first element in `indices`), then the following 10% for validation, and the remaining 10% for testing. You can use the indices to index `dataset`.\n",
        "\n",
        "Call the resulting splits `train_dataset`, `valid_dataset`, and `test_dataset`."
      ]
    },
    {
      "cell_type": "code",
      "execution_count": null,
      "metadata": {
        "id": "ttY4d1GInn08"
      },
      "outputs": [],
      "source": [
        "# Don't erase the following three lines\n",
        "import torch\n",
        "torch.random.manual_seed(0)\n",
        "indices = torch.randperm(len(dataset))\n",
        "\n",
        "# Your answer here\n"
      ]
    },
    {
      "cell_type": "markdown",
      "metadata": {
        "id": "rDJbB4CQqsfp"
      },
      "source": [
        "### Working with a batch of graphs\n",
        "\n",
        "When working with the Cora dataset, you used the information in `data.edge_index` to build the sparse normalized adjacency matrix $\\hat{A}$ that is required by the GCN. We could do something similar here: for each graph, we build $\\hat{A}$, and pass it to the GCN. However, if the number of graphs is big, this can really slow down training.\n",
        "\n",
        "To avoid this, we will resort to a very useful trick that also allows us to reuse the same GCN you implemented previously. The trick makes it possible to do a forward pass through the GCN for multiple, disconnected graphs at the same time (instead of only one), much like when you train with mini-batches for other kinds of data.\n",
        "\n",
        "Let's first revisit the propagation rule of the GCN, $Z = \\hat{A}XW$, with an illustration (we have omitted the cells of $X$ and $W$ for clarity):\n",
        "\n",
        "<img src=\"https://raw.githubusercontent.com/dfdazac/dlvu-a5/main/img/02-gcn-forward.png\">\n",
        "\n",
        "If we have multiple graphs, we can still use the same propagation rule, if we\n",
        "\n",
        "- Set $\\hat{A}$ to be a block diagonal matrix, where the blocks are the different adjacency matrices of the graphs\n",
        "- Concatenate the feature matrices along the first dimension\n",
        "\n",
        "This is illustrated in the following figure, for a batch of 3 graphs. Note that the elements outside of the blocks are zero.\n",
        "\n",
        "<img src=\"https://raw.githubusercontent.com/dfdazac/dlvu-a5/main/img/02-gcn-batch-forward.png\">\n",
        "\n",
        "The resulting adjacency matrix $\\hat{A}_B$ can also be built as a sparse matrix, and once we have it together with the concatenated matrix of features, the computation of the graph convolution is exactly the same as before. Note how this trick also allows us to process graphs with different sizes and structures.\n"
      ]
    },
    {
      "cell_type": "markdown",
      "metadata": {
        "id": "0DLPJ62b2mQ6"
      },
      "source": [
        "#### Question 13 (0.5 pt)\n",
        "\n",
        "\n",
        "Just as the citation network, the graphs in each of the datasets you created in Question 12 also have an `edge_index` attribute, which can be used to compute the normalized adjacency matrix $\\hat{A}$, for each graph.\n",
        "\n",
        "Reusing your code for Questions 3 and 5, define a function `get_a_norm()` that takes as input an element of a dataset (e.g. `train_dataset[0]`), and returns a `scipy.sparse` matrix containing $\\hat{A}$.\n",
        "\n",
        "Note that an element of a dataset has properties like `num_edges`, `num_nodes`, etc. which you can use here."
      ]
    },
    {
      "cell_type": "code",
      "execution_count": null,
      "metadata": {
        "id": "4nvPX2GB8oXp"
      },
      "outputs": [],
      "source": [
        "# Your answer here\n"
      ]
    },
    {
      "cell_type": "markdown",
      "metadata": {
        "id": "cBrmYBY3AfhW"
      },
      "source": [
        "#### Question 14 (1 pt)\n",
        "\n",
        "To prepare the batch of graphs, we need to collect multiple adjacency matrices, feature matrices, and labels.\n",
        "\n",
        "When using the trick described in the last figure, we see that we have to keep track of when a graph starts and when it ends, so that we can later differentiate the outputs due to $X^{(0)}$, $X^{(1)}$, etc. To achieve this, we will additionally collect a 1D array of batch indices, one for each $X^{(i)}$.\n",
        "\n",
        "The 1D array has as many elements as rows in $X^{(i)}$, and it is filled with the value $i$ (the position of $X^{(i)}$ in the batch):\n",
        "\n",
        "<img src=\"https://raw.githubusercontent.com/dfdazac/dlvu-a5/main/img/03-batch-indices.png\">\n",
        "\n",
        "We will later concatenate all the 1D arrays along the first dimension, just as we will do with all the $X^{(i)}$.\n",
        "\n",
        "Define a function `prepare_graphs_batch()` that takes as input a dataset (e.g. `train_dataset`), and does the following\n",
        "\n",
        "- Create four empty lists:\n",
        "  - `adj_matrices`\n",
        "  - `feature_matrices`\n",
        "  - `batch_indices`\n",
        "  - `labels`\n",
        "- Iterate over the input dataset, getting one graph at a time. At each step, use your function from Question 13 to append the adjacency matrix to `adj_matrices`, append the matrix of input features to `feature_matrices`, create the array of batch indices (as explained above) and append it to `batch_indices`, and append the label of the graph to `labels`. **Make sure to convert the label to float**.\n",
        "- Once the loop is over, use `scipy.sparse.block_diag()` to build the block diagonal matrix $\\hat{A}_B$. Convert it to the COO format, and then use your answer to Question 6 to turn it into a sparse PyTorch tensor.\n",
        "- Use `torch.cat()` to concatenate the tensors in `feature_matrices` along the first dimension. Do this also for `batch_indices` and `labels`.\n",
        "- Return the 4 tensors computed in the previous two items."
      ]
    },
    {
      "cell_type": "code",
      "execution_count": null,
      "metadata": {
        "id": "SsQ0-JjSqFgD"
      },
      "outputs": [],
      "source": [
        "# Your answer here\n"
      ]
    },
    {
      "cell_type": "markdown",
      "metadata": {
        "id": "i73P_EU0MSPX"
      },
      "source": [
        "Once your answer for the previous question is ready, you can run the next cell to prepare all the required information, for the train, validation, and test splits."
      ]
    },
    {
      "cell_type": "code",
      "execution_count": null,
      "metadata": {
        "id": "Iol5FxJGMmAU"
      },
      "outputs": [],
      "source": [
        "train_a_norm, train_features, train_batch_idx, train_labels = prepare_graphs_batch(train_dataset)\n",
        "valid_a_norm, valid_features, valid_batch_idx, valid_labels = prepare_graphs_batch(valid_dataset)\n",
        "test_a_norm, test_features, test_batch_idx, test_labels = prepare_graphs_batch(test_dataset)"
      ]
    },
    {
      "cell_type": "markdown",
      "metadata": {
        "id": "R6q-JU87NClh"
      },
      "source": [
        "### GCNs for graph classification\n",
        "\n",
        "We now have all the ingredients to pass a batch of graphs to a GCN. However, for each graph in the batch, the output $Z^{(i)}$ contains one row for each node in the graph. If the goal is to do classification at the graph level, we have to *pool* these vectors to then compute the required logits for classification.\n",
        "\n",
        "This operation is similar as how pooling works in a CNN. We could consider taking the mean of the vectors, the sum, or use max-pooling. The difference with respect to CNNs is that in our case, we have a batch of graphs, each potentially with a different number of nodes.\n",
        "\n",
        "To implement this specific pooling, we can use the scatter operation in the `torch_scatter` library, which comes when installing PyG. We will use it, together with the tensor of batch indices from the previous two questions, to pool the outputs of the GCN for each graph, into a single vector:\n",
        "\n",
        "<img src=\"https://raw.githubusercontent.com/dfdazac/dlvu-a5/main/img/04-scatter.png\">\n",
        "\n",
        "You can check more details in the [documentation](https://pytorch-scatter.readthedocs.io/en/latest/functions/scatter.html)."
      ]
    },
    {
      "cell_type": "markdown",
      "metadata": {
        "id": "QY87DX1uRhnY"
      },
      "source": [
        "#### Question 15 (1.0 pt)\n",
        "\n",
        "Implement a `GraphClassifier` module using PyTorch.\n",
        "\n",
        "- The constructor should take as arguments the number of input features, the hidden dimension, and the number of classes.\n",
        "- The model should contain a instance of the `GCN` module (as you implemented it in Question 8). Use the same value for the hidden dimension and the number of output features (recall that your `GCN` module from Question 8 has two GCN layers).\n",
        "- The model should also contain a `torch.nn.Linear` layer, with the hidden dimension as the input features, and the number of classes as the output.\n",
        "- The forward method receives the concatenated matrix of features, the sparse block diagonal adjacency matrix, and the batch indices (the latter is used when calling `scatter`).\n",
        "- Use the following architecture in the forward pass:\n",
        "  - GCN $\\to$ ReLU $\\to$ scatter (max) $\\to$ Linear.\n",
        "\n",
        "The output of the forward should be a 1D tensor (you might need to call `squeeze` to get rid of extra dimensions) containing the logits for all graphs in the batch, for the binary classification task."
      ]
    },
    {
      "cell_type": "code",
      "execution_count": null,
      "metadata": {
        "id": "750WraywwYDH"
      },
      "outputs": [],
      "source": [
        "# Your answer here\n"
      ]
    },
    {
      "cell_type": "markdown",
      "metadata": {
        "id": "h0QHnn6dV87J"
      },
      "source": []
    },
    {
      "cell_type": "markdown",
      "metadata": {
        "id": "C1PHy-_vTjgh"
      },
      "source": [
        "#### Question 16 (1.5 pt)\n",
        "\n",
        "Implement a training loop for the graph classifier. Use the data from Question 14 to train and evaluate the model.\n",
        "\n",
        "We encourage you to use a GPU in this section for faster training. Note that if you change the runtime at this point, you must re-execute several of the cells above, including the ones that install PyG.\n",
        "\n",
        "- Instantiate a classifier with 32 as the hidden dimension\n",
        "- Use Adam with a learning rate of 1e-3.\n",
        "- Use `torch.nn.BCEWithLogitsLoss` as the loss function.\n",
        "- Train for 5,000 epochs. Once training is done, plot the loss curve and the accuracy in the validation set. Then report the accuracy in the test set.\n",
        "\n",
        "**Note:** the logits from the output of the classifier come from a linear layer. To compute actual predictions for the calculation of the accuracy, pass the logits through `torch.sigmoid()`, and set the predicted values to 1 whenever they are greater than 0.5, and to 0 otherwise.\n",
        "\n",
        "You should get an accuracy equal to or higher than 70% in the validation and test sets. Can you beat the [state-of-the-art](https://paperswithcode.com/sota/graph-classification-on-proteins)? Feel free to modify your architecture and experiment with it.\n",
        "\n",
        "Discuss what you observe during training and your results."
      ]
    },
    {
      "cell_type": "code",
      "execution_count": null,
      "metadata": {
        "id": "9DbGAs8W2Xja"
      },
      "outputs": [],
      "source": [
        "# If your runtime is GPU-enabled, use .to(device) to move the model\n",
        "# and all the relevant tensors to the GPU. You have to move tensors back to CPU\n",
        "# when computing metrics like accuracy, using .cpu().\n",
        "device = torch.device('cuda') if torch.cuda.is_available() else 'cpu'\n",
        "\n",
        "# Your answer here\n"
      ]
    },
    {
      "cell_type": "markdown",
      "metadata": {
        "id": "MvmAfDNMcnKD"
      },
      "source": [
        "## The end\n",
        "\n",
        "If you have made it all the way here successfully, congratulations! 🎉 \n",
        "\n",
        "You have implemented your own GCN and tested it on a node classification task, and a more challenging classification task over multiple graphs.\n",
        "\n",
        "We hope you can use this knowledge to apply GCNs not only to the tasks described here, but other applications where data can be modeled as a graph.\n",
        "\n",
        "If you are interested in applying graph neural networks to larger graphs, or try newer architectures, you can dive deeper into [PyTorch Geometric](https://pytorch-geometric.readthedocs.io/en/latest/), a library with fast implementations for a wide range of architectures. It also comes with custom code that takes care of aspects that you dealt with manually for this assignment, like a more efficient implementation of the adjacency matrix multiplication via message-passing methods, and Data Loaders that relieve you from having to build block diagonal sparse matrices.\n",
        "\n",
        "You can also check the [Deep Graph Library](https://docs.dgl.ai/) another powerful library for deep learning on graphs which also integrates with other backends like TensorFlow."
      ]
    },
    {
      "cell_type": "markdown",
      "metadata": {
        "id": "l7QhyAMms8-L"
      },
      "source": [
        "# Grading (10pt)"
      ]
    },
    {
      "cell_type": "markdown",
      "metadata": {
        "id": "juIdxXhos-mV"
      },
      "source": [
        "- Question 1: 0.25pt \n",
        "- Question 2: 0.25pt \n",
        "- Question 3: 0.5pt \n",
        "- Question 4: 0.25pt \n",
        "- Question 5: 0.5pt \n",
        "- Question 6: 0.5pt \n",
        "- Question 7: 0.5pt \n",
        "- Question 8: 0.5pt \n",
        "- Question 9: 1.5pt \n",
        "- Question 10: 0.5pt \n",
        "- Question 11: 0.25pt \n",
        "- Question 12: 0.5pt \n",
        "- Question 13: 0.5pt \n",
        "- Question 14: 1pt\n",
        "- Question 15: 1pt\n",
        "- Question 16: 1.5pt"
      ]
    }
  ],
  "metadata": {
    "accelerator": "GPU",
    "colab": {
      "provenance": [],
      "toc_visible": true
    },
    "kernelspec": {
      "display_name": ".venv",
      "language": "python",
      "name": "python3"
    },
    "language_info": {
      "codemirror_mode": {
        "name": "ipython",
        "version": 3
      },
      "file_extension": ".py",
      "mimetype": "text/x-python",
      "name": "python",
      "nbconvert_exporter": "python",
      "pygments_lexer": "ipython3",
      "version": "3.12.3"
    }
  },
  "nbformat": 4,
  "nbformat_minor": 0
}
