{
 "cells": [
  {
   "cell_type": "code",
   "execution_count": 2,
   "metadata": {},
   "outputs": [],
   "source": [
    "import variableImageSize as vis\n",
    "import os\n",
    "from glob import glob\n",
    "from PIL import Image\n",
    "from torchvision import transforms\n",
    "from torch.utils.data import Dataset, DataLoader\n",
    "import torch"
   ]
  },
  {
   "cell_type": "code",
   "execution_count": 3,
   "metadata": {},
   "outputs": [
    {
     "ename": "AttributeError",
     "evalue": "module 'variableImageSize' has no attribute 'load_images_by_resolution'",
     "output_type": "error",
     "traceback": [
      "\u001b[0;31m---------------------------------------------------------------------------\u001b[0m",
      "\u001b[0;31mAttributeError\u001b[0m                            Traceback (most recent call last)",
      "Cell \u001b[0;32mIn[3], line 5\u001b[0m\n\u001b[1;32m      2\u001b[0m root_dir \u001b[38;5;241m=\u001b[39m \u001b[38;5;124m\"\u001b[39m\u001b[38;5;124m./data/MNIST/mnist-varres/test/\u001b[39m\u001b[38;5;124m\"\u001b[39m\n\u001b[1;32m      4\u001b[0m \u001b[38;5;66;03m# Load images grouped by resolution\u001b[39;00m\n\u001b[0;32m----> 5\u001b[0m tensor_32, tensor_48, tensor_64 \u001b[38;5;241m=\u001b[39m \u001b[43mvis\u001b[49m\u001b[38;5;241;43m.\u001b[39;49m\u001b[43mload_images_by_resolution\u001b[49m(root_dir)\n\u001b[1;32m      7\u001b[0m \u001b[38;5;66;03m# Print the size of each group\u001b[39;00m\n\u001b[1;32m      8\u001b[0m \u001b[38;5;28mprint\u001b[39m(\u001b[38;5;124mf\u001b[39m\u001b[38;5;124m\"\u001b[39m\u001b[38;5;124m32x32: Images \u001b[39m\u001b[38;5;132;01m{\u001b[39;00mtensor_32[\u001b[38;5;241m0\u001b[39m]\u001b[38;5;241m.\u001b[39mshape\u001b[38;5;132;01m}\u001b[39;00m\u001b[38;5;124m, Labels \u001b[39m\u001b[38;5;132;01m{\u001b[39;00mtensor_32[\u001b[38;5;241m1\u001b[39m]\u001b[38;5;241m.\u001b[39mshape\u001b[38;5;132;01m}\u001b[39;00m\u001b[38;5;124m\"\u001b[39m)\n",
      "\u001b[0;31mAttributeError\u001b[0m: module 'variableImageSize' has no attribute 'load_images_by_resolution'"
     ]
    }
   ],
   "source": [
    "# Path to dataset\n",
    "root_dir = \"./data/MNIST/mnist-varres/test/\"\n",
    "\n",
    "# Load images grouped by resolution\n",
    "tensor_32, tensor_48, tensor_64 = vis.load_images_by_resolution(root_dir)\n",
    "\n",
    "# Print the size of each group\n",
    "print(f\"32x32: Images {tensor_32[0].shape}, Labels {tensor_32[1].shape}\")\n",
    "print(f\"48x48: Images {tensor_48[0].shape}, Labels {tensor_48[1].shape}\")\n",
    "print(f\"64x64: Images {tensor_64[0].shape}, Labels {tensor_64[1].shape}\")"
   ]
  }
 ],
 "metadata": {
  "kernelspec": {
   "display_name": "fuckyou",
   "language": "python",
   "name": "python3"
  },
  "language_info": {
   "codemirror_mode": {
    "name": "ipython",
    "version": 3
   },
   "file_extension": ".py",
   "mimetype": "text/x-python",
   "name": "python",
   "nbconvert_exporter": "python",
   "pygments_lexer": "ipython3",
   "version": "3.11.10"
  }
 },
 "nbformat": 4,
 "nbformat_minor": 2
}
