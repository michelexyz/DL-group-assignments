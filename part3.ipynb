{
 "cells": [
  {
   "cell_type": "code",
   "execution_count": 1,
   "metadata": {},
   "outputs": [],
   "source": [
    "import variableImageSize as vis\n",
    "import os\n",
    "from glob import glob\n",
    "from PIL import Image\n",
    "from torchvision import transforms\n",
    "from torch.utils.data import Dataset, DataLoader\n",
    "import torch\n",
    "\n",
    "%load_ext autoreload\n",
    "%autoreload 2"
   ]
  },
  {
   "cell_type": "code",
   "execution_count": 2,
   "metadata": {},
   "outputs": [],
   "source": [
    "# Path to dataset\n",
    "root_dir = \"./data/MNIST/mnist-varres/test/\"\n",
    "\n",
    "# Load images grouped by resolution\n",
    "tensors_32, tensors_48, tensors_64 = vis.load_images_by_resolution(root_dir)\n",
    "test_tensors_by_resolution = {\n",
    "    32: tensors_32,\n",
    "    48: tensors_48,\n",
    "    64: tensors_64,\n",
    "}\n",
    "root_dir = \"./data/MNIST/mnist-varres/train/\"\n",
    "tensors_32, tensors_48, tensors_64 = vis.load_images_by_resolution(root_dir)\n",
    "train_tensors_by_resolution = {\n",
    "    32: tensors_32,\n",
    "    48: tensors_48,\n",
    "    64: tensors_64,\n",
    "}\n",
    "# Print the size of each group\n",
    "# print(f\"32x32: Images {tensor_32[0].shape}, Labels {tensor_32[1].shape}\")\n",
    "# print(f\"48x48: Images {tensor_48[0].shape}, Labels {tensor_48[1].shape}\")\n",
    "# print(f\"64x64: Images {tensor_64[0].shape}, Labels {tensor_64[1].shape}\")"
   ]
  },
  {
   "cell_type": "code",
   "execution_count": 3,
   "metadata": {},
   "outputs": [
    {
     "name": "stdout",
     "output_type": "stream",
     "text": [
      "VariableInputNetwork(\n",
      "  (conv1): Conv2d(1, 16, kernel_size=(3, 3), stride=(1, 1), padding=(1, 1))\n",
      "  (conv2): Conv2d(16, 32, kernel_size=(3, 3), stride=(1, 1), padding=(1, 1))\n",
      "  (conv3): Conv2d(32, 81, kernel_size=(3, 3), stride=(1, 1), padding=(1, 1))\n",
      "  (pool): MaxPool2d(kernel_size=2, stride=2, padding=0, dilation=1, ceil_mode=False)\n",
      "  (global_pool): AdaptiveMaxPool2d(output_size=(1, 1))\n",
      "  (fc): Linear(in_features=81, out_features=10, bias=True)\n",
      ")\n",
      "Output shape for 32x32 input: torch.Size([8, 10])\n",
      "Output shape for 48x48 input: torch.Size([8, 10])\n",
      "Output shape for 64x64 input: torch.Size([8, 10])\n"
     ]
    }
   ],
   "source": [
    "model = vis.VariableInputNetwork(num_classes=10, N=81, pooling_type='max')\n",
    "print(model)\n",
    "\n",
    "# Test with variable input sizes\n",
    "input_32 = torch.randn(8, 1, 32, 32)  # Batch of 8 images, resolution 32x32\n",
    "input_48 = torch.randn(8, 1, 48, 48)  # Batch of 8 images, resolution 48x48\n",
    "input_64 = torch.randn(8, 1, 64, 64)  # Batch of 8 images, resolution 64x64\n",
    "\n",
    "output_32 = model(input_32)  # Should output (8, 10)\n",
    "output_48 = model(input_48)  # Should output (8, 10)\n",
    "output_64 = model(input_64)  # Should output (8, 10)\n",
    "\n",
    "print(f\"Output shape for 32x32 input: {output_32.shape}\")\n",
    "print(f\"Output shape for 48x48 input: {output_48.shape}\")\n",
    "print(f\"Output shape for 64x64 input: {output_64.shape}\")"
   ]
  },
  {
   "cell_type": "code",
   "execution_count": 16,
   "metadata": {},
   "outputs": [
    {
     "name": "stdout",
     "output_type": "stream",
     "text": [
      "29029\n"
     ]
    }
   ],
   "source": [
    "print(vis.count_parameters(model))"
   ]
  },
  {
   "cell_type": "code",
   "execution_count": 3,
   "metadata": {},
   "outputs": [
    {
     "name": "stdout",
     "output_type": "stream",
     "text": [
      "\n",
      "Training with MAX pooling:\n",
      "Epoch 1/5\n",
      "Training on resolution 32x32:\n",
      "  Train Loss: 0.8478, Train Acc: 75.34%\n",
      "Training on resolution 48x48:\n",
      "  Train Loss: 0.1938, Train Acc: 94.26%\n",
      "Training on resolution 64x64:\n"
     ]
    },
    {
     "ename": "KeyboardInterrupt",
     "evalue": "",
     "output_type": "error",
     "traceback": [
      "\u001b[0;31m---------------------------------------------------------------------------\u001b[0m",
      "\u001b[0;31mKeyboardInterrupt\u001b[0m                         Traceback (most recent call last)",
      "Cell \u001b[0;32mIn[3], line 1\u001b[0m\n\u001b[0;32m----> 1\u001b[0m results \u001b[38;5;241m=\u001b[39m \u001b[43mvis\u001b[49m\u001b[38;5;241;43m.\u001b[39;49m\u001b[43mtrain_and_compare_pooling\u001b[49m\u001b[43m(\u001b[49m\u001b[43mtrain_tensors_by_resolution\u001b[49m\u001b[43m,\u001b[49m\u001b[43m \u001b[49m\u001b[43mtest_tensors_by_resolution\u001b[49m\u001b[43m,\u001b[49m\u001b[43m \u001b[49m\u001b[43mnum_epochs\u001b[49m\u001b[38;5;241;43m=\u001b[39;49m\u001b[38;5;241;43m5\u001b[39;49m\u001b[43m)\u001b[49m\n",
      "File \u001b[0;32m~/computer_science/code/DL-group-assignments/variableImageSize.py:206\u001b[0m, in \u001b[0;36mtrain_and_compare_pooling\u001b[0;34m(train_data_by_resolution, test_data_by_resolution, num_epochs)\u001b[0m\n\u001b[1;32m    204\u001b[0m \u001b[38;5;28;01mfor\u001b[39;00m res, (train_data, train_labels) \u001b[38;5;129;01min\u001b[39;00m train_data_by_resolution\u001b[38;5;241m.\u001b[39mitems():\n\u001b[1;32m    205\u001b[0m     \u001b[38;5;28mprint\u001b[39m(\u001b[38;5;124mf\u001b[39m\u001b[38;5;124m\"\u001b[39m\u001b[38;5;124mTraining on resolution \u001b[39m\u001b[38;5;132;01m{\u001b[39;00mres\u001b[38;5;132;01m}\u001b[39;00m\u001b[38;5;124mx\u001b[39m\u001b[38;5;132;01m{\u001b[39;00mres\u001b[38;5;132;01m}\u001b[39;00m\u001b[38;5;124m:\u001b[39m\u001b[38;5;124m\"\u001b[39m)\n\u001b[0;32m--> 206\u001b[0m     train_loss, train_acc \u001b[38;5;241m=\u001b[39m \u001b[43mtrain_on_resolution\u001b[49m\u001b[43m(\u001b[49m\u001b[43mmodel\u001b[49m\u001b[43m,\u001b[49m\u001b[43m \u001b[49m\u001b[43mtrain_data\u001b[49m\u001b[43m,\u001b[49m\u001b[43m \u001b[49m\u001b[43mtrain_labels\u001b[49m\u001b[43m,\u001b[49m\u001b[43m \u001b[49m\u001b[43mcriterion\u001b[49m\u001b[43m,\u001b[49m\u001b[43m \u001b[49m\u001b[43moptimizer\u001b[49m\u001b[43m,\u001b[49m\u001b[43m \u001b[49m\u001b[43mdevice\u001b[49m\u001b[43m)\u001b[49m\n\u001b[1;32m    207\u001b[0m     \u001b[38;5;28mprint\u001b[39m(\u001b[38;5;124mf\u001b[39m\u001b[38;5;124m\"\u001b[39m\u001b[38;5;124m  Train Loss: \u001b[39m\u001b[38;5;132;01m{\u001b[39;00mtrain_loss\u001b[38;5;132;01m:\u001b[39;00m\u001b[38;5;124m.4f\u001b[39m\u001b[38;5;132;01m}\u001b[39;00m\u001b[38;5;124m, Train Acc: \u001b[39m\u001b[38;5;132;01m{\u001b[39;00mtrain_acc\u001b[38;5;132;01m:\u001b[39;00m\u001b[38;5;124m.2f\u001b[39m\u001b[38;5;132;01m}\u001b[39;00m\u001b[38;5;124m%\u001b[39m\u001b[38;5;124m\"\u001b[39m)\n\u001b[1;32m    208\u001b[0m \u001b[38;5;28mprint\u001b[39m(\u001b[38;5;124m\"\u001b[39m\u001b[38;5;124m-\u001b[39m\u001b[38;5;124m\"\u001b[39m \u001b[38;5;241m*\u001b[39m \u001b[38;5;241m50\u001b[39m)\n",
      "File \u001b[0;32m~/computer_science/code/DL-group-assignments/variableImageSize.py:125\u001b[0m, in \u001b[0;36mtrain_on_resolution\u001b[0;34m(model, data, labels, criterion, optimizer, device, batch_size)\u001b[0m\n\u001b[1;32m    123\u001b[0m outputs \u001b[38;5;241m=\u001b[39m model(inputs)\n\u001b[1;32m    124\u001b[0m loss \u001b[38;5;241m=\u001b[39m criterion(outputs, targets)\n\u001b[0;32m--> 125\u001b[0m \u001b[43mloss\u001b[49m\u001b[38;5;241;43m.\u001b[39;49m\u001b[43mbackward\u001b[49m\u001b[43m(\u001b[49m\u001b[43m)\u001b[49m\n\u001b[1;32m    126\u001b[0m optimizer\u001b[38;5;241m.\u001b[39mstep()\n\u001b[1;32m    128\u001b[0m running_loss \u001b[38;5;241m+\u001b[39m\u001b[38;5;241m=\u001b[39m loss\u001b[38;5;241m.\u001b[39mitem() \u001b[38;5;241m*\u001b[39m inputs\u001b[38;5;241m.\u001b[39msize(\u001b[38;5;241m0\u001b[39m)\n",
      "File \u001b[0;32m~/computer_science/code/DL-group-assignments/.venv/lib/python3.12/site-packages/torch/_tensor.py:581\u001b[0m, in \u001b[0;36mTensor.backward\u001b[0;34m(self, gradient, retain_graph, create_graph, inputs)\u001b[0m\n\u001b[1;32m    571\u001b[0m \u001b[38;5;28;01mif\u001b[39;00m has_torch_function_unary(\u001b[38;5;28mself\u001b[39m):\n\u001b[1;32m    572\u001b[0m     \u001b[38;5;28;01mreturn\u001b[39;00m handle_torch_function(\n\u001b[1;32m    573\u001b[0m         Tensor\u001b[38;5;241m.\u001b[39mbackward,\n\u001b[1;32m    574\u001b[0m         (\u001b[38;5;28mself\u001b[39m,),\n\u001b[0;32m   (...)\u001b[0m\n\u001b[1;32m    579\u001b[0m         inputs\u001b[38;5;241m=\u001b[39minputs,\n\u001b[1;32m    580\u001b[0m     )\n\u001b[0;32m--> 581\u001b[0m \u001b[43mtorch\u001b[49m\u001b[38;5;241;43m.\u001b[39;49m\u001b[43mautograd\u001b[49m\u001b[38;5;241;43m.\u001b[39;49m\u001b[43mbackward\u001b[49m\u001b[43m(\u001b[49m\n\u001b[1;32m    582\u001b[0m \u001b[43m    \u001b[49m\u001b[38;5;28;43mself\u001b[39;49m\u001b[43m,\u001b[49m\u001b[43m \u001b[49m\u001b[43mgradient\u001b[49m\u001b[43m,\u001b[49m\u001b[43m \u001b[49m\u001b[43mretain_graph\u001b[49m\u001b[43m,\u001b[49m\u001b[43m \u001b[49m\u001b[43mcreate_graph\u001b[49m\u001b[43m,\u001b[49m\u001b[43m \u001b[49m\u001b[43minputs\u001b[49m\u001b[38;5;241;43m=\u001b[39;49m\u001b[43minputs\u001b[49m\n\u001b[1;32m    583\u001b[0m \u001b[43m\u001b[49m\u001b[43m)\u001b[49m\n",
      "File \u001b[0;32m~/computer_science/code/DL-group-assignments/.venv/lib/python3.12/site-packages/torch/autograd/__init__.py:347\u001b[0m, in \u001b[0;36mbackward\u001b[0;34m(tensors, grad_tensors, retain_graph, create_graph, grad_variables, inputs)\u001b[0m\n\u001b[1;32m    342\u001b[0m     retain_graph \u001b[38;5;241m=\u001b[39m create_graph\n\u001b[1;32m    344\u001b[0m \u001b[38;5;66;03m# The reason we repeat the same comment below is that\u001b[39;00m\n\u001b[1;32m    345\u001b[0m \u001b[38;5;66;03m# some Python versions print out the first line of a multi-line function\u001b[39;00m\n\u001b[1;32m    346\u001b[0m \u001b[38;5;66;03m# calls in the traceback and some print out the last line\u001b[39;00m\n\u001b[0;32m--> 347\u001b[0m \u001b[43m_engine_run_backward\u001b[49m\u001b[43m(\u001b[49m\n\u001b[1;32m    348\u001b[0m \u001b[43m    \u001b[49m\u001b[43mtensors\u001b[49m\u001b[43m,\u001b[49m\n\u001b[1;32m    349\u001b[0m \u001b[43m    \u001b[49m\u001b[43mgrad_tensors_\u001b[49m\u001b[43m,\u001b[49m\n\u001b[1;32m    350\u001b[0m \u001b[43m    \u001b[49m\u001b[43mretain_graph\u001b[49m\u001b[43m,\u001b[49m\n\u001b[1;32m    351\u001b[0m \u001b[43m    \u001b[49m\u001b[43mcreate_graph\u001b[49m\u001b[43m,\u001b[49m\n\u001b[1;32m    352\u001b[0m \u001b[43m    \u001b[49m\u001b[43minputs\u001b[49m\u001b[43m,\u001b[49m\n\u001b[1;32m    353\u001b[0m \u001b[43m    \u001b[49m\u001b[43mallow_unreachable\u001b[49m\u001b[38;5;241;43m=\u001b[39;49m\u001b[38;5;28;43;01mTrue\u001b[39;49;00m\u001b[43m,\u001b[49m\n\u001b[1;32m    354\u001b[0m \u001b[43m    \u001b[49m\u001b[43maccumulate_grad\u001b[49m\u001b[38;5;241;43m=\u001b[39;49m\u001b[38;5;28;43;01mTrue\u001b[39;49;00m\u001b[43m,\u001b[49m\n\u001b[1;32m    355\u001b[0m \u001b[43m\u001b[49m\u001b[43m)\u001b[49m\n",
      "File \u001b[0;32m~/computer_science/code/DL-group-assignments/.venv/lib/python3.12/site-packages/torch/autograd/graph.py:825\u001b[0m, in \u001b[0;36m_engine_run_backward\u001b[0;34m(t_outputs, *args, **kwargs)\u001b[0m\n\u001b[1;32m    823\u001b[0m     unregister_hooks \u001b[38;5;241m=\u001b[39m _register_logging_hooks_on_whole_graph(t_outputs)\n\u001b[1;32m    824\u001b[0m \u001b[38;5;28;01mtry\u001b[39;00m:\n\u001b[0;32m--> 825\u001b[0m     \u001b[38;5;28;01mreturn\u001b[39;00m \u001b[43mVariable\u001b[49m\u001b[38;5;241;43m.\u001b[39;49m\u001b[43m_execution_engine\u001b[49m\u001b[38;5;241;43m.\u001b[39;49m\u001b[43mrun_backward\u001b[49m\u001b[43m(\u001b[49m\u001b[43m  \u001b[49m\u001b[38;5;66;43;03m# Calls into the C++ engine to run the backward pass\u001b[39;49;00m\n\u001b[1;32m    826\u001b[0m \u001b[43m        \u001b[49m\u001b[43mt_outputs\u001b[49m\u001b[43m,\u001b[49m\u001b[43m \u001b[49m\u001b[38;5;241;43m*\u001b[39;49m\u001b[43margs\u001b[49m\u001b[43m,\u001b[49m\u001b[43m \u001b[49m\u001b[38;5;241;43m*\u001b[39;49m\u001b[38;5;241;43m*\u001b[39;49m\u001b[43mkwargs\u001b[49m\n\u001b[1;32m    827\u001b[0m \u001b[43m    \u001b[49m\u001b[43m)\u001b[49m  \u001b[38;5;66;03m# Calls into the C++ engine to run the backward pass\u001b[39;00m\n\u001b[1;32m    828\u001b[0m \u001b[38;5;28;01mfinally\u001b[39;00m:\n\u001b[1;32m    829\u001b[0m     \u001b[38;5;28;01mif\u001b[39;00m attach_logging_hooks:\n",
      "\u001b[0;31mKeyboardInterrupt\u001b[0m: "
     ]
    }
   ],
   "source": [
    "results = vis.train_and_compare_pooling(train_tensors_by_resolution, test_tensors_by_resolution, num_epochs=5)\n"
   ]
  },
  {
   "cell_type": "code",
   "execution_count": 6,
   "metadata": {},
   "outputs": [
    {
     "name": "stdout",
     "output_type": "stream",
     "text": [
      "\n",
      "Training with MAX pooling:\n",
      "Epoch 1/8\n",
      "Training on resolution 32x32:\n",
      "  Train Loss: 0.8594, Train Acc: 73.97%\n",
      "Training on resolution 48x48:\n",
      "  Train Loss: 0.2032, Train Acc: 93.81%\n",
      "Training on resolution 64x64:\n",
      "  Train Loss: 0.1429, Train Acc: 95.59%\n",
      "--------------------------------------------------\n",
      "Epoch 2/8\n",
      "Training on resolution 32x32:\n",
      "  Train Loss: 0.1183, Train Acc: 96.27%\n",
      "Training on resolution 48x48:\n",
      "  Train Loss: 0.0931, Train Acc: 97.23%\n",
      "Training on resolution 64x64:\n",
      "  Train Loss: 0.0879, Train Acc: 97.30%\n",
      "--------------------------------------------------\n",
      "Epoch 3/8\n",
      "Training on resolution 32x32:\n",
      "  Train Loss: 0.0807, Train Acc: 97.51%\n",
      "Training on resolution 48x48:\n",
      "  Train Loss: 0.0680, Train Acc: 97.91%\n",
      "Training on resolution 64x64:\n",
      "  Train Loss: 0.0702, Train Acc: 97.86%\n",
      "--------------------------------------------------\n",
      "Epoch 4/8\n",
      "Training on resolution 32x32:\n",
      "  Train Loss: 0.0655, Train Acc: 97.84%\n",
      "Training on resolution 48x48:\n",
      "  Train Loss: 0.0540, Train Acc: 98.18%\n",
      "Training on resolution 64x64:\n",
      "  Train Loss: 0.0533, Train Acc: 98.29%\n",
      "--------------------------------------------------\n",
      "Epoch 5/8\n",
      "Training on resolution 32x32:\n",
      "  Train Loss: 0.0540, Train Acc: 98.27%\n",
      "Training on resolution 48x48:\n",
      "  Train Loss: 0.0434, Train Acc: 98.60%\n",
      "Training on resolution 64x64:\n",
      "  Train Loss: 0.0467, Train Acc: 98.57%\n",
      "--------------------------------------------------\n",
      "Epoch 6/8\n",
      "Training on resolution 32x32:\n",
      "  Train Loss: 0.0425, Train Acc: 98.51%\n",
      "Training on resolution 48x48:\n",
      "  Train Loss: 0.0386, Train Acc: 98.78%\n",
      "Training on resolution 64x64:\n",
      "  Train Loss: 0.0443, Train Acc: 98.61%\n",
      "--------------------------------------------------\n",
      "Epoch 7/8\n",
      "Training on resolution 32x32:\n",
      "  Train Loss: 0.0379, Train Acc: 98.66%\n",
      "Training on resolution 48x48:\n",
      "  Train Loss: 0.0331, Train Acc: 99.02%\n",
      "Training on resolution 64x64:\n",
      "  Train Loss: 0.0372, Train Acc: 98.85%\n",
      "--------------------------------------------------\n",
      "Epoch 8/8\n",
      "Training on resolution 32x32:\n",
      "  Train Loss: 0.0372, Train Acc: 98.76%\n",
      "Training on resolution 48x48:\n",
      "  Train Loss: 0.0293, Train Acc: 99.06%\n",
      "Training on resolution 64x64:\n",
      "  Train Loss: 0.0340, Train Acc: 98.90%\n",
      "--------------------------------------------------\n",
      "\n",
      "Evaluating MAX pooling on test data:\n",
      "Resolution 32x32: Test Loss: 0.0505, Test Acc: 98.20%\n",
      "Resolution 48x48: Test Loss: 0.0512, Test Acc: 98.31%\n",
      "Resolution 64x64: Test Loss: 0.0400, Test Acc: 98.81%\n",
      "\n",
      "Comparison of Pooling Methods:\n",
      "\n",
      "MAX Pooling:\n",
      "Resolution 32x32: Test Loss = 0.0505, Test Acc = 98.20%\n",
      "Resolution 48x48: Test Loss = 0.0512, Test Acc = 98.31%\n",
      "Resolution 64x64: Test Loss = 0.0400, Test Acc = 98.81%\n"
     ]
    }
   ],
   "source": [
    "results, confusion_matrix_pooling, conf_matrix_results = vis.train_max_pooling(train_tensors_by_resolution, test_tensors_by_resolution, num_epochs=8)"
   ]
  },
  {
   "cell_type": "code",
   "execution_count": 7,
   "metadata": {},
   "outputs": [
    {
     "data": {
      "text/plain": [
       "{'max': {32: (0.04431117902506734, 98.62343224227592),\n",
       "  48: (0.0470549292395239, 98.55072463768116),\n",
       "  64: (0.03471831485184271, 98.68656716417911)}}"
      ]
     },
     "execution_count": 7,
     "metadata": {},
     "output_type": "execute_result"
    }
   ],
   "source": [
    "results"
   ]
  },
  {
   "cell_type": "code",
   "execution_count": 5,
   "metadata": {},
   "outputs": [
    {
     "data": {
      "text/plain": [
       "tensor([[9.5400e+02, 0.0000e+00, 5.0000e+00, 0.0000e+00, 0.0000e+00, 1.0000e+00,\n",
       "         1.1000e+01, 3.0000e+00, 6.0000e+00, 0.0000e+00],\n",
       "        [1.0000e+00, 1.1140e+03, 7.0000e+00, 0.0000e+00, 1.0000e+00, 0.0000e+00,\n",
       "         4.0000e+00, 1.0000e+00, 7.0000e+00, 0.0000e+00],\n",
       "        [8.0000e+00, 0.0000e+00, 1.0100e+03, 4.0000e+00, 0.0000e+00, 0.0000e+00,\n",
       "         1.0000e+00, 1.0000e+00, 8.0000e+00, 0.0000e+00],\n",
       "        [1.0000e+00, 0.0000e+00, 5.0000e+00, 9.9200e+02, 0.0000e+00, 2.0000e+00,\n",
       "         0.0000e+00, 3.0000e+00, 5.0000e+00, 2.0000e+00],\n",
       "        [0.0000e+00, 0.0000e+00, 1.0000e+00, 0.0000e+00, 9.6800e+02, 0.0000e+00,\n",
       "         2.0000e+00, 0.0000e+00, 2.0000e+00, 9.0000e+00],\n",
       "        [1.0000e+00, 0.0000e+00, 3.0000e+00, 1.2000e+01, 2.0000e+00, 8.4000e+02,\n",
       "         6.0000e+00, 2.0000e+00, 1.6000e+01, 1.0000e+01],\n",
       "        [8.0000e+00, 0.0000e+00, 2.0000e+00, 0.0000e+00, 2.0000e+00, 2.0000e+00,\n",
       "         9.4000e+02, 0.0000e+00, 4.0000e+00, 0.0000e+00],\n",
       "        [1.0000e+00, 6.0000e+00, 1.4000e+01, 8.0000e+00, 4.0000e+00, 0.0000e+00,\n",
       "         0.0000e+00, 9.7600e+02, 2.0000e+00, 1.7000e+01],\n",
       "        [5.0000e+00, 0.0000e+00, 4.0000e+00, 2.0000e+00, 4.0000e+00, 0.0000e+00,\n",
       "         4.0000e+00, 1.0000e+00, 9.5000e+02, 4.0000e+00],\n",
       "        [6.0000e+00, 3.0000e+00, 5.0000e+00, 6.0000e+00, 1.3000e+01, 0.0000e+00,\n",
       "         1.0000e+00, 4.0000e+00, 1.2000e+01, 9.5900e+02]])"
      ]
     },
     "execution_count": 5,
     "metadata": {},
     "output_type": "execute_result"
    }
   ],
   "source": [
    "confusion_matrix_pooling"
   ]
  },
  {
   "cell_type": "markdown",
   "metadata": {},
   "source": [
    "# Final comparison"
   ]
  },
  {
   "cell_type": "markdown",
   "metadata": {},
   "source": [
    "## Loading the resized data"
   ]
  },
  {
   "cell_type": "code",
   "execution_count": 14,
   "metadata": {},
   "outputs": [],
   "source": [
    "from torchvision.datasets import ImageFolder\n",
    "from torchvision.transforms import Compose, Resize, ToTensor, Grayscale\n",
    "import matplotlib.pyplot as plt\n",
    "import NN_utils\n",
    "\n",
    "# Load the variable resolution dataset\n",
    "varres_transform = Compose([  \n",
    "    Resize((28, 28)),\n",
    "    Grayscale(num_output_channels=1),\n",
    "    ToTensor()\n",
    "])\n",
    "\n",
    "varres_test = ImageFolder(root='./data/MNIST/mnist-varres/test', transform=varres_transform)\n",
    "\n",
    "vatters_train = ImageFolder(root='./data/MNIST/mnist-varres/train', transform=varres_transform)\n",
    "\n",
    "# Split into training and validation sets\n",
    "train_size = int(0.8 * len(vatters_train))\n",
    "val_size = len(vatters_train) - train_size\n",
    "train_varres_dataset, val_varres_dataset = torch.utils.data.random_split(vatters_train, [train_size, val_size])\n",
    "\n",
    "\n",
    "# Create data loaders\n",
    "train_varres_loader = DataLoader(train_varres_dataset, batch_size=len(train_varres_dataset), shuffle=True)\n",
    "val_varres_loader = DataLoader(val_varres_dataset, batch_size=len(val_varres_dataset), shuffle=False)\n",
    "\n",
    "test_varres_loader = DataLoader(varres_test, batch_size=len(varres_test), shuffle=False)\n",
    "\n",
    "\n",
    "#load the whole dataset into tensors\n",
    "x_train_resized, y_train_resized= next(iter(train_varres_loader))\n",
    "x_val_resized, y_val_resized = next(iter(val_varres_loader))\n",
    "x_test_resized, y_test_resized = next(iter(test_varres_loader))"
   ]
  },
  {
   "cell_type": "markdown",
   "metadata": {},
   "source": [
    "## Training and testing model from q12"
   ]
  },
  {
   "cell_type": "code",
   "execution_count": null,
   "metadata": {},
   "outputs": [
    {
     "name": "stderr",
     "output_type": "stream",
     "text": [
      "Batches for epoch 1/8: 100%|██████████| 1500/1500 [00:19<00:00, 78.29it/s]\n"
     ]
    },
    {
     "name": "stdout",
     "output_type": "stream",
     "text": [
      "Epoch 1/8, Train Loss: 0.0109, Train Acc: 0.8988, Val Loss: 0.0104, Val Acc: 0.9008\n"
     ]
    },
    {
     "name": "stderr",
     "output_type": "stream",
     "text": [
      "Batches for epoch 2/8: 100%|██████████| 1500/1500 [00:19<00:00, 78.22it/s]\n"
     ]
    },
    {
     "name": "stdout",
     "output_type": "stream",
     "text": [
      "Epoch 2/8, Train Loss: 0.0068, Train Acc: 0.9358, Val Loss: 0.0069, Val Acc: 0.9348\n"
     ]
    },
    {
     "name": "stderr",
     "output_type": "stream",
     "text": [
      "Batches for epoch 3/8: 100%|██████████| 1500/1500 [00:19<00:00, 78.53it/s]\n"
     ]
    },
    {
     "name": "stdout",
     "output_type": "stream",
     "text": [
      "Epoch 3/8, Train Loss: 0.0053, Train Acc: 0.9486, Val Loss: 0.0059, Val Acc: 0.9432\n"
     ]
    },
    {
     "name": "stderr",
     "output_type": "stream",
     "text": [
      "Batches for epoch 4/8: 100%|██████████| 1500/1500 [00:18<00:00, 80.47it/s]\n"
     ]
    },
    {
     "name": "stdout",
     "output_type": "stream",
     "text": [
      "Epoch 4/8, Train Loss: 0.0047, Train Acc: 0.9533, Val Loss: 0.0055, Val Acc: 0.9442\n"
     ]
    },
    {
     "name": "stderr",
     "output_type": "stream",
     "text": [
      "Batches for epoch 5/8: 100%|██████████| 1500/1500 [00:19<00:00, 75.85it/s]\n"
     ]
    },
    {
     "name": "stdout",
     "output_type": "stream",
     "text": [
      "Epoch 5/8, Train Loss: 0.0039, Train Acc: 0.9605, Val Loss: 0.0050, Val Acc: 0.9494\n"
     ]
    },
    {
     "name": "stderr",
     "output_type": "stream",
     "text": [
      "Batches for epoch 6/8: 100%|██████████| 1500/1500 [00:18<00:00, 82.35it/s]\n"
     ]
    },
    {
     "name": "stdout",
     "output_type": "stream",
     "text": [
      "Epoch 6/8, Train Loss: 0.0041, Train Acc: 0.9576, Val Loss: 0.0056, Val Acc: 0.9437\n"
     ]
    },
    {
     "name": "stderr",
     "output_type": "stream",
     "text": [
      "Batches for epoch 7/8: 100%|██████████| 1500/1500 [00:18<00:00, 80.95it/s]\n"
     ]
    },
    {
     "name": "stdout",
     "output_type": "stream",
     "text": [
      "Epoch 7/8, Train Loss: 0.0030, Train Acc: 0.9696, Val Loss: 0.0045, Val Acc: 0.9554\n"
     ]
    },
    {
     "name": "stderr",
     "output_type": "stream",
     "text": [
      "Batches for epoch 8/8: 100%|██████████| 1500/1500 [00:18<00:00, 80.33it/s]\n"
     ]
    },
    {
     "name": "stdout",
     "output_type": "stream",
     "text": [
      "Epoch 8/8, Train Loss: 0.0033, Train Acc: 0.9662, Val Loss: 0.0051, Val Acc: 0.9517\n"
     ]
    },
    {
     "ename": "TypeError",
     "evalue": "confusion_matrix() got an unexpected keyword argument 'batch_size'",
     "output_type": "error",
     "traceback": [
      "\u001b[0;31m---------------------------------------------------------------------------\u001b[0m",
      "\u001b[0;31mTypeError\u001b[0m                                 Traceback (most recent call last)",
      "Cell \u001b[0;32mIn[15], line 16\u001b[0m\n\u001b[1;32m     11\u001b[0m batch_size \u001b[38;5;241m=\u001b[39m \u001b[38;5;241m32\u001b[39m\n\u001b[1;32m     13\u001b[0m first_epoch_running_loss, train_evaluations, test_evaluations \u001b[38;5;241m=\u001b[39m NN_utils\u001b[38;5;241m.\u001b[39mtrain(model, x_train_resized, y_train_resized, x_test_resized, y_test_resized, optimizer, criterion, epochs\u001b[38;5;241m=\u001b[39m\u001b[38;5;241m8\u001b[39m, batch_size\u001b[38;5;241m=\u001b[39mbatch_size)\n\u001b[0;32m---> 16\u001b[0m confuzion_matrix_resized \u001b[38;5;241m=\u001b[39m \u001b[43mNN_utils\u001b[49m\u001b[38;5;241;43m.\u001b[39;49m\u001b[43mconfusion_matrix\u001b[49m\u001b[43m(\u001b[49m\u001b[43mmodel\u001b[49m\u001b[43m,\u001b[49m\u001b[43m \u001b[49m\u001b[43mx_test_resized\u001b[49m\u001b[43m,\u001b[49m\u001b[43m \u001b[49m\u001b[43my_test_resized\u001b[49m\u001b[43m,\u001b[49m\u001b[43m \u001b[49m\u001b[43mbatch_size\u001b[49m\u001b[38;5;241;43m=\u001b[39;49m\u001b[43mbatch_size\u001b[49m\u001b[43m)\u001b[49m\n",
      "\u001b[0;31mTypeError\u001b[0m: confusion_matrix() got an unexpected keyword argument 'batch_size'"
     ]
    }
   ],
   "source": [
    "import torch.nn as nn\n",
    "\n",
    "# do the same as above but with the test set\n",
    "model = NN_utils.MNISTConvNet()\n",
    "\n",
    "device = torch.device(\"cuda\" if torch.cuda.is_available() else \"cpu\")\n",
    "x_test_resized, y_test_resized = x_test_resized.to(device), y_test_resized.to(device)\n",
    "\n",
    "criterion = nn.CrossEntropyLoss()\n",
    "optimizer = torch.optim.Adam(model.parameters(), lr=0.001)\n",
    "batch_size = 32\n",
    "\n",
    "first_epoch_running_loss, train_evaluations, test_evaluations = NN_utils.train(model, x_train_resized, y_train_resized, x_test_resized, y_test_resized, optimizer, criterion, epochs=8, batch_size=batch_size)\n",
    "\n",
    "\n",
    "confuzion_matrix_resized = NN_utils.confusion_matrix(model, x_test_resized, y_test_resized, batch=batch_size)\n"
   ]
  },
  {
   "cell_type": "code",
   "execution_count": null,
   "metadata": {},
   "outputs": [],
   "source": [
    "#print accuracy and loss at the end of training\n",
    "print(f\"Accuracy on test set: {test_evaluations[-1,1]}\")\n"
   ]
  },
  {
   "cell_type": "markdown",
   "metadata": {},
   "source": [
    "## Plotting both confusion matrices"
   ]
  },
  {
   "cell_type": "code",
   "execution_count": null,
   "metadata": {},
   "outputs": [],
   "source": [
    "# function to plot the confusion matrix as percentages with a heatmap using seaborn, expects a confusion matrix as input as counts of predictions, we have to convert it to percentages\n",
    "\n",
    "import seaborn as sns\n",
    "\n",
    "import matplotlib.pyplot as plt\n",
    "\n",
    "def plot_confusion_matrix(confusion_matrix):\n",
    "\n",
    "\n",
    "    # convert the counts to percentages\n",
    "    confusion_matrix = confusion_matrix / confusion_matrix.sum(axis=1)[:, None]\n",
    "    # plot the heatmap\n",
    "\n",
    "    plt.figure(figsize=(10, 10))\n",
    "    sns.heatmap(confusion_matrix, annot=True, fmt=\".2%\", cmap='Blues')\n",
    "    plt.xlabel('Predicted')\n",
    "    plt.ylabel('True')\n",
    "    #plt.title('Confusion Matrix')\n",
    "    plt.show()"
   ]
  },
  {
   "cell_type": "code",
   "execution_count": 13,
   "metadata": {},
   "outputs": [
    {
     "data": {
      "image/png": "[encoded data removed]",
      "text/plain": [
       "<Figure size 1000x1000 with 2 Axes>"
      ]
     },
     "metadata": {},
     "output_type": "display_data"
    }
   ],
   "source": [
    "plot_confusion_matrix(confusion_matrix_pooling)"
   ]
  },
  {
   "cell_type": "code",
   "execution_count": null,
   "metadata": {},
   "outputs": [],
   "source": [
    "plot_confusion_matrix(confuzion_matrix_resized)"
   ]
  }
 ],
 "metadata": {
  "kernelspec": {
   "display_name": ".venv",
   "language": "python",
   "name": "python3"
  },
  "language_info": {
   "codemirror_mode": {
    "name": "ipython",
    "version": 3
   },
   "file_extension": ".py",
   "mimetype": "text/x-python",
   "name": "python",
   "nbconvert_exporter": "python",
   "pygments_lexer": "ipython3",
   "version": "3.12.7"
  }
 },
 "nbformat": 4,
 "nbformat_minor": 2
}
